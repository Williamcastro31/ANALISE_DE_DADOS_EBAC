{
  "nbformat": 4,
  "nbformat_minor": 0,
  "metadata": {
    "colab": {
      "name": "module_13_exercise.ipynb",
      "provenance": [],
      "collapsed_sections": []
    },
    "kernelspec": {
      "name": "python3",
      "display_name": "Python 3"
    }
  },
  "cells": [
    {
      "cell_type": "markdown",
      "metadata": {
        "id": "KJqp9AANOCtf"
      },
      "source": [
        "<img src=\"https://raw.githubusercontent.com/andre-marcos-perez/ebac-course-utils/main/media/logo/newebac_logo_black_half.png\" alt=\"ebac-logo\">\n",
        "\n",
        "---\n",
        "\n",
        "# **Módulo** | Análise de Dados: Data Wrangling II\n",
        "Caderno de **Exercícios**<br> \n",
        "Professor [André Perez](https://www.linkedin.com/in/andremarcosperez/)\n",
        "\n",
        "---"
      ]
    },
    {
      "cell_type": "markdown",
      "metadata": {
        "id": "d9jDtUbDOE1-"
      },
      "source": [
        "# **Tópicos**\n",
        "\n",
        "<ol type=\"1\">\n",
        "  <li>Agregação e Ordenação;</li>\n",
        "  <li>Combinação;</li>\n",
        "  <li>Técnicas Avançadas.</li>\n",
        "</ol>"
      ]
    },
    {
      "cell_type": "markdown",
      "metadata": {
        "id": "SmoHgt-lwkpD"
      },
      "source": [
        "---"
      ]
    },
    {
      "cell_type": "markdown",
      "metadata": {
        "id": "GABI6OW8OfQ2"
      },
      "source": [
        "# **Exercícios**"
      ]
    },
    {
      "cell_type": "markdown",
      "metadata": {
        "id": "45DbYPgFhuR7"
      },
      "source": [
        "Neste exercícios, vamos trabalhar com dados geográficos, demográficos e econômicos do Brasil. Vamos manipular e combinar dados de duas frentes distintas para poder responder perguntas de negócios."
      ]
    },
    {
      "cell_type": "markdown",
      "metadata": {
        "id": "GWgNoJN8DHyY"
      },
      "source": [
        "## 1\\. Data Wrangling"
      ]
    },
    {
      "cell_type": "markdown",
      "metadata": {
        "id": "E30KnCdKRdYl"
      },
      "source": [
        "### **1.1. Estados** "
      ]
    },
    {
      "cell_type": "markdown",
      "metadata": {
        "id": "w2q1apyNYHbu"
      },
      "source": [
        "O arquivo `estados-bruto.xml` contém informações sobre estados (nome, sigla e região). **Carregue-o na máquina virtual do Google Colab**. Um arquivo do tipo XML é similar a um arquivo do tipo HTML, exemplo do estado do Acre:"
      ]
    },
    {
      "cell_type": "markdown",
      "metadata": {
        "id": "GzjE2aEyYW5A"
      },
      "source": [
        "```xml\n",
        "<ESTADO>\n",
        "  <ID>1</ID>\n",
        "  <NOME>ACRE</NOME>\n",
        "  <IDCAPITAL>16</IDCAPITAL>\n",
        "  <SIGLA>AC</SIGLA>\n",
        "  <REGIAO>NORTE</REGIAO>\n",
        "</ESTADO>\n",
        "```"
      ]
    },
    {
      "cell_type": "markdown",
      "metadata": {
        "id": "7Mtk7Dd9UHqg"
      },
      "source": [
        "Utilize o pacote Python `beautifulsoup4` para extrair os dados do arquivo `estados-bruto.xml` providenciado. Salve os dados extraidos no arquivo `estados-limpo.csv` separado por `;`. Exemplo das três primeiras linhas mais o cabeçalho:\n",
        "\n",
        "```\n",
        "estado;sigla;regiao\n",
        "ACRE;AC;NORTE\n",
        "ALAGOAS;AL;NORDESTE\n",
        "AMAPA;AP;NORTE\n",
        "```\n",
        "\n",
        "**Dica**: Utilize o parser de xml chamado `lxml` do `beautifulsoup4`."
      ]
    },
    {
      "cell_type": "code",
      "metadata": {
        "id": "kz0ZyYI0Sg6P"
      },
      "source": [
        "# ler o arquivo estados-bruto.xml, utilize o xml parser chamado lxml\n",
        "\n",
        "from bs4 import BeautifulSoup\n",
        "\n",
        "import lxml\n",
        "\n",
        "NOME_ARQUIVO_FONTE = 'estados-bruto.xml'\n",
        "\n",
        "fonte = BeautifulSoup(open(NOME_ARQUIVO_FONTE, mode='r'), 'lxml')\n"
      ],
      "execution_count": 2,
      "outputs": []
    },
    {
      "cell_type": "code",
      "metadata": {
        "id": "rB0u2NjEXhDo",
        "colab": {
          "base_uri": "https://localhost:8080/"
        },
        "outputId": "345ffccf-ee8c-46bc-cffe-007bfe1f36c1"
      },
      "source": [
        "# visualize os resultados\n",
        "\n",
        "\n",
        "fonte"
      ],
      "execution_count": 3,
      "outputs": [
        {
          "output_type": "execute_result",
          "data": {
            "text/plain": [
              "<?xml version=\"1.0\" encoding=\"utf-8\" ?><html><body><estados>\n",
              "<estado>\n",
              "<id>1</id>\n",
              "<nome>ACRE</nome>\n",
              "<idcapital>16</idcapital>\n",
              "<sigla>AC</sigla>\n",
              "<regiao>NORTE</regiao>\n",
              "</estado>\n",
              "<estado>\n",
              "<id>2</id>\n",
              "<nome>ALAGOAS</nome>\n",
              "<idcapital>68</idcapital>\n",
              "<sigla>AL</sigla>\n",
              "<regiao>NORDESTE</regiao>\n",
              "</estado>\n",
              "<estado>\n",
              "<id>3</id>\n",
              "<nome>AMAPA</nome>\n",
              "<idcapital>131</idcapital>\n",
              "<sigla>AP</sigla>\n",
              "<regiao>NORTE</regiao>\n",
              "</estado>\n",
              "<estado>\n",
              "<id>4</id>\n",
              "<nome>AMAZONAS</nome>\n",
              "<idcapital>178</idcapital>\n",
              "<sigla>AM</sigla>\n",
              "<regiao>NORTE</regiao>\n",
              "</estado>\n",
              "<estado>\n",
              "<id>5</id>\n",
              "<nome>BAHIA</nome>\n",
              "<idcapital>536</idcapital>\n",
              "<sigla>BA</sigla>\n",
              "<regiao>NORDESTE</regiao>\n",
              "</estado>\n",
              "<estado>\n",
              "<id>6</id>\n",
              "<nome>CEARA</nome>\n",
              "<idcapital>676</idcapital>\n",
              "<sigla>CE</sigla>\n",
              "<regiao>NORDESTE</regiao>\n",
              "</estado>\n",
              "<estado>\n",
              "<id>7</id>\n",
              "<nome>DISTRITO FEDERAL</nome>\n",
              "<idcapital>916</idcapital>\n",
              "<sigla>DF</sigla>\n",
              "<regiao>CENTRO-OESTE</regiao>\n",
              "</estado>\n",
              "<estado>\n",
              "<id>8</id>\n",
              "<nome>ESPIRITO SANTO</nome>\n",
              "<idcapital>879</idcapital>\n",
              "<sigla>ES</sigla>\n",
              "<regiao>SUDESTE</regiao>\n",
              "</estado>\n",
              "<estado>\n",
              "<id>9</id>\n",
              "<nome>GOIAS</nome>\n",
              "<idcapital>973</idcapital>\n",
              "<sigla>GO</sigla>\n",
              "<regiao>CENTRO-OESTE</regiao>\n",
              "</estado>\n",
              "<estado>\n",
              "<id>10</id>\n",
              "<nome>MARANHAO</nome>\n",
              "<idcapital>1309</idcapital>\n",
              "<sigla>MA</sigla>\n",
              "<regiao>NORDESTE</regiao>\n",
              "</estado>\n",
              "<estado>\n",
              "<id>11</id>\n",
              "<nome>MATO GROSSO</nome>\n",
              "<idcapital>1374</idcapital>\n",
              "<sigla>MT</sigla>\n",
              "<regiao>CENTRO-OESTE</regiao>\n",
              "</estado>\n",
              "<estado>\n",
              "<id>12</id>\n",
              "<nome>MATO GROSSO DO SUL</nome>\n",
              "<idcapital>1485</idcapital>\n",
              "<sigla>MS</sigla>\n",
              "<regiao>CENTRO-OESTE</regiao>\n",
              "</estado>\n",
              "<estado>\n",
              "<id>13</id>\n",
              "<nome>PARA</nome>\n",
              "<idcapital>1561</idcapital>\n",
              "<sigla>PA</sigla>\n",
              "<regiao>NORTE</regiao>\n",
              "</estado>\n",
              "<estado>\n",
              "<id>14</id>\n",
              "<nome>PARAIBA</nome>\n",
              "<idcapital>1779</idcapital>\n",
              "<sigla>PB</sigla>\n",
              "<regiao>NORDESTE</regiao>\n",
              "</estado>\n",
              "<estado>\n",
              "<id>15</id>\n",
              "<nome>PARANA</nome>\n",
              "<idcapital>2002</idcapital>\n",
              "<sigla>PR</sigla>\n",
              "<regiao>SUL</regiao>\n",
              "</estado>\n",
              "<estado>\n",
              "<id>16</id>\n",
              "<nome>PERNAMBUCO</nome>\n",
              "<idcapital>2439</idcapital>\n",
              "<sigla>PE</sigla>\n",
              "<regiao>NORDESTE</regiao>\n",
              "</estado>\n",
              "<estado>\n",
              "<id>17</id>\n",
              "<nome>PIAUI</nome>\n",
              "<idcapital>2704</idcapital>\n",
              "<sigla>PI</sigla>\n",
              "<regiao>NORDESTE</regiao>\n",
              "</estado>\n",
              "<estado>\n",
              "<id>18</id>\n",
              "<nome>RIO DE JANEIRO</nome>\n",
              "<idcapital>2779</idcapital>\n",
              "<sigla>RJ</sigla>\n",
              "<regiao>SUDESTE</regiao>\n",
              "</estado>\n",
              "<estado>\n",
              "<id>19</id>\n",
              "<nome>RIO GRANDE DO NORTE</nome>\n",
              "<idcapital>2890</idcapital>\n",
              "<sigla>RN</sigla>\n",
              "<regiao>NORDESTE</regiao>\n",
              "</estado>\n",
              "<estado>\n",
              "<id>20</id>\n",
              "<nome>RIO GRANDE DO SUL</nome>\n",
              "<idcapital>3273</idcapital>\n",
              "<sigla>RS</sigla>\n",
              "<regiao>SUL</regiao>\n",
              "</estado>\n",
              "<estado>\n",
              "<id>21</id>\n",
              "<nome>RONDONIA</nome>\n",
              "<idcapital>3473</idcapital>\n",
              "<sigla>RO</sigla>\n",
              "<regiao>NORTE</regiao>\n",
              "</estado>\n",
              "<estado>\n",
              "<id>22</id>\n",
              "<nome>RORAIMA</nome>\n",
              "<idcapital>3491</idcapital>\n",
              "<sigla>RR</sigla>\n",
              "<regiao>NORTE</regiao>\n",
              "</estado>\n",
              "<estado>\n",
              "<id>23</id>\n",
              "<nome>SANTA CATARINA</nome>\n",
              "<idcapital>3591</idcapital>\n",
              "<sigla>SC</sigla>\n",
              "<regiao>SUL</regiao>\n",
              "</estado>\n",
              "<estado>\n",
              "<id>24</id>\n",
              "<nome>SAO PAULO</nome>\n",
              "<idcapital>4361</idcapital>\n",
              "<sigla>SP</sigla>\n",
              "<regiao>SUDESTE</regiao>\n",
              "</estado>\n",
              "<estado>\n",
              "<id>25</id>\n",
              "<nome>SERGIPE</nome>\n",
              "<idcapital>4444</idcapital>\n",
              "<sigla>SE</sigla>\n",
              "<regiao>NORDESTE</regiao>\n",
              "</estado>\n",
              "<estado>\n",
              "<id>26</id>\n",
              "<nome>TOCANTINS</nome>\n",
              "<idcapital>4606</idcapital>\n",
              "<sigla>TO</sigla>\n",
              "<regiao>NORTE</regiao>\n",
              "</estado>\n",
              "<estado>\n",
              "<id>27</id>\n",
              "<nome>MINAS GERAIS</nome>\n",
              "<idcapital>4790</idcapital>\n",
              "<sigla>MG</sigla>\n",
              "<regiao>SUDESTE</regiao>\n",
              "</estado>\n",
              "</estados>\n",
              "</body></html>"
            ]
          },
          "metadata": {},
          "execution_count": 3
        }
      ]
    },
    {
      "cell_type": "code",
      "metadata": {
        "id": "6mos3LTVXrzV",
        "colab": {
          "base_uri": "https://localhost:8080/"
        },
        "outputId": "8d98124d-aa08-4fc6-af6d-c4485a47ce77"
      },
      "source": [
        "# manipule os dados\n",
        "\n",
        "estados_limpo = []\n",
        "\n",
        "name_column = ['estado', 'sigla', 'regiao']\n",
        "\n",
        "tabela = fonte.find_all('estado')\n",
        "\n",
        "for linha in tabela:\n",
        "  estados_limpo.append([\n",
        "      \n",
        "      linha.get_text().strip().split('\\n')[1],\n",
        "      linha.get_text().strip().split('\\n')[3],\n",
        "      linha.get_text().strip().split('\\n')[4]\n",
        "  ])\n",
        "\n",
        "estados_limpo.insert(0 , name_column)\n",
        "\n",
        "print(estados_limpo)"
      ],
      "execution_count": 4,
      "outputs": [
        {
          "output_type": "stream",
          "name": "stdout",
          "text": [
            "[['estado', 'sigla', 'regiao'], ['ACRE', 'AC', 'NORTE'], ['ALAGOAS', 'AL', 'NORDESTE'], ['AMAPA', 'AP', 'NORTE'], ['AMAZONAS', 'AM', 'NORTE'], ['BAHIA', 'BA', 'NORDESTE'], ['CEARA', 'CE', 'NORDESTE'], ['DISTRITO FEDERAL', 'DF', 'CENTRO-OESTE'], ['ESPIRITO SANTO', 'ES', 'SUDESTE'], ['GOIAS', 'GO', 'CENTRO-OESTE'], ['MARANHAO', 'MA', 'NORDESTE'], ['MATO GROSSO', 'MT', 'CENTRO-OESTE'], ['MATO GROSSO DO SUL', 'MS', 'CENTRO-OESTE'], ['PARA', 'PA', 'NORTE'], ['PARAIBA', 'PB', 'NORDESTE'], ['PARANA', 'PR', 'SUL'], ['PERNAMBUCO', 'PE', 'NORDESTE'], ['PIAUI', 'PI', 'NORDESTE'], ['RIO DE JANEIRO', 'RJ', 'SUDESTE'], ['RIO GRANDE DO NORTE', 'RN', 'NORDESTE'], ['RIO GRANDE DO SUL', 'RS', 'SUL'], ['RONDONIA', 'RO', 'NORTE'], ['RORAIMA', 'RR', 'NORTE'], ['SANTA CATARINA', 'SC', 'SUL'], ['SAO PAULO', 'SP', 'SUDESTE'], ['SERGIPE', 'SE', 'NORDESTE'], ['TOCANTINS', 'TO', 'NORTE'], ['MINAS GERAIS', 'MG', 'SUDESTE']]\n"
          ]
        }
      ]
    },
    {
      "cell_type": "code",
      "metadata": {
        "id": "9yCma_LASxFg"
      },
      "source": [
        "# escrever o conteudo extraido no arquivo estados-limpo.csv separados por ;\n",
        "\n",
        "import csv\n",
        "\n",
        "NOME_ARQUIVO_DESTINO = 'estados-limpo.csv'\n",
        "\n",
        "with open(file= NOME_ARQUIVO_DESTINO, mode='w', encoding='utf8') as arquivo:\n",
        "  escritor_csv = csv.writer(arquivo, delimiter=';')\n",
        "  escritor_csv.writerows(list(map(lambda x: x, estados_limpo)))\n"
      ],
      "execution_count": 5,
      "outputs": []
    },
    {
      "cell_type": "code",
      "source": [],
      "metadata": {
        "id": "JCnkSqe1ZkTn"
      },
      "execution_count": null,
      "outputs": []
    },
    {
      "cell_type": "markdown",
      "metadata": {
        "id": "Fq0xqYYSYq92"
      },
      "source": [
        "### **1.2. Cidades** "
      ]
    },
    {
      "cell_type": "markdown",
      "metadata": {
        "id": "eWRbjhOQYq93"
      },
      "source": [
        "O arquivo `cidades-bruto.csv` contém informações demográficas e socioeconomicas das cidades do Brasil. **Carregue-o na máquina virtual do Google Colab**. Utilize o pacote Python `pandas` para extrair os dados do arquivo `cidades-bruto.xml` providenciado. Seguindo as seguintes especificações:"
      ]
    },
    {
      "cell_type": "markdown",
      "metadata": {
        "id": "76zW8sMsbhEu"
      },
      "source": [
        "1. Apenas dados do censo de 2010;\n",
        "1. Apenas as colunas UF, Nome, PIB, Pop_est_2009 e PIB_percapita."
      ]
    },
    {
      "cell_type": "markdown",
      "metadata": {
        "id": "auiIxlw-blp8"
      },
      "source": [
        "Salve os dados extraidos no arquivo `cidades-limpo.csv` separado por `;`. Exemplo das três primeiras linhas mais o cabeçalho:\n",
        "\n",
        "```\n",
        "estado;cidade;populacao;pib;pib_percapita\n",
        "BAHIA;TREMEDAL;18433;57883.9921875;3140.23999023\n",
        "RIO GRANDE DO SUL;TURUÇU;4000;45723875;11430.96972656\n",
        "ESPIRITO SANTO;VITÓRIA;320156;19782628;61790.58984375\n",
        "```"
      ]
    },
    {
      "cell_type": "code",
      "metadata": {
        "id": "nBmWOkvzYq94",
        "colab": {
          "base_uri": "https://localhost:8080/"
        },
        "outputId": "e47e1557-aaff-469d-953a-a8883e6fcd88"
      },
      "source": [
        "# ler o arquivo cidades-bruto.csv\n",
        "\n",
        "import pandas as pd\n",
        "\n",
        "NOME_ARQUIVO_FONTE = 'cidades-bruto.csv'\n",
        "\n",
        "fonte_df = pd.read_csv(NOME_ARQUIVO_FONTE, sep=',', error_bad_lines=False, engine='python')\n"
      ],
      "execution_count": 6,
      "outputs": [
        {
          "output_type": "stream",
          "name": "stderr",
          "text": [
            "/usr/local/lib/python3.7/dist-packages/IPython/core/interactiveshell.py:3326: FutureWarning: The error_bad_lines argument has been deprecated and will be removed in a future version.\n",
            "\n",
            "\n",
            "  exec(code_obj, self.user_global_ns, self.user_ns)\n",
            "Skipping line 2173: field larger than field limit (131072)\n",
            "Skipping line 2207: field larger than field limit (131072)\n",
            "Skipping line 2817: field larger than field limit (131072)\n"
          ]
        }
      ]
    },
    {
      "cell_type": "code",
      "metadata": {
        "id": "2NKpI4h9Yq95",
        "colab": {
          "base_uri": "https://localhost:8080/",
          "height": 238
        },
        "outputId": "de5e3744-46dd-46ff-b1be-6655b7e94b1b"
      },
      "source": [
        "# visualize os resultados\n",
        "fonte_df.describe().T\n",
        "\n",
        "# continue o codigo aqui"
      ],
      "execution_count": 7,
      "outputs": [
        {
          "output_type": "execute_result",
          "data": {
            "text/plain": [
              "                count           mean           std          min           25%  \\\n",
              "gid            5563.0    2785.769189  1.607256e+03     1.000000   1394.500000   \n",
              "Censo          5557.0    2009.997301  8.995590e-02  2007.000000   2010.000000   \n",
              "PIB            5563.0  582198.466478  6.347513e+06  5770.282227  38418.294922   \n",
              "Pop_est_2009   5563.0   34402.359698  2.018375e+05   837.000000   5338.000000   \n",
              "PIB_percapita  5563.0   10979.003452  1.215229e+04  1929.969971   4518.704834   \n",
              "classe         5563.0       1.521481  6.712602e-01     1.000000      1.000000   \n",
              "\n",
              "                        50%            75%           max  \n",
              "gid             2786.000000    4177.500000  5.568000e+03  \n",
              "Censo           2010.000000    2010.000000  2.010000e+03  \n",
              "PIB            80588.132812  206221.179688  3.893172e+08  \n",
              "Pop_est_2009   11200.000000   23247.500000  1.103759e+07  \n",
              "PIB_percapita   8394.969727   13317.935059  3.608158e+05  \n",
              "classe             1.000000       2.000000  5.000000e+00  "
            ],
            "text/html": [
              "\n",
              "  <div id=\"df-193eb541-b901-4dc6-a84a-0bf92eca3b3f\">\n",
              "    <div class=\"colab-df-container\">\n",
              "      <div>\n",
              "<style scoped>\n",
              "    .dataframe tbody tr th:only-of-type {\n",
              "        vertical-align: middle;\n",
              "    }\n",
              "\n",
              "    .dataframe tbody tr th {\n",
              "        vertical-align: top;\n",
              "    }\n",
              "\n",
              "    .dataframe thead th {\n",
              "        text-align: right;\n",
              "    }\n",
              "</style>\n",
              "<table border=\"1\" class=\"dataframe\">\n",
              "  <thead>\n",
              "    <tr style=\"text-align: right;\">\n",
              "      <th></th>\n",
              "      <th>count</th>\n",
              "      <th>mean</th>\n",
              "      <th>std</th>\n",
              "      <th>min</th>\n",
              "      <th>25%</th>\n",
              "      <th>50%</th>\n",
              "      <th>75%</th>\n",
              "      <th>max</th>\n",
              "    </tr>\n",
              "  </thead>\n",
              "  <tbody>\n",
              "    <tr>\n",
              "      <th>gid</th>\n",
              "      <td>5563.0</td>\n",
              "      <td>2785.769189</td>\n",
              "      <td>1.607256e+03</td>\n",
              "      <td>1.000000</td>\n",
              "      <td>1394.500000</td>\n",
              "      <td>2786.000000</td>\n",
              "      <td>4177.500000</td>\n",
              "      <td>5.568000e+03</td>\n",
              "    </tr>\n",
              "    <tr>\n",
              "      <th>Censo</th>\n",
              "      <td>5557.0</td>\n",
              "      <td>2009.997301</td>\n",
              "      <td>8.995590e-02</td>\n",
              "      <td>2007.000000</td>\n",
              "      <td>2010.000000</td>\n",
              "      <td>2010.000000</td>\n",
              "      <td>2010.000000</td>\n",
              "      <td>2.010000e+03</td>\n",
              "    </tr>\n",
              "    <tr>\n",
              "      <th>PIB</th>\n",
              "      <td>5563.0</td>\n",
              "      <td>582198.466478</td>\n",
              "      <td>6.347513e+06</td>\n",
              "      <td>5770.282227</td>\n",
              "      <td>38418.294922</td>\n",
              "      <td>80588.132812</td>\n",
              "      <td>206221.179688</td>\n",
              "      <td>3.893172e+08</td>\n",
              "    </tr>\n",
              "    <tr>\n",
              "      <th>Pop_est_2009</th>\n",
              "      <td>5563.0</td>\n",
              "      <td>34402.359698</td>\n",
              "      <td>2.018375e+05</td>\n",
              "      <td>837.000000</td>\n",
              "      <td>5338.000000</td>\n",
              "      <td>11200.000000</td>\n",
              "      <td>23247.500000</td>\n",
              "      <td>1.103759e+07</td>\n",
              "    </tr>\n",
              "    <tr>\n",
              "      <th>PIB_percapita</th>\n",
              "      <td>5563.0</td>\n",
              "      <td>10979.003452</td>\n",
              "      <td>1.215229e+04</td>\n",
              "      <td>1929.969971</td>\n",
              "      <td>4518.704834</td>\n",
              "      <td>8394.969727</td>\n",
              "      <td>13317.935059</td>\n",
              "      <td>3.608158e+05</td>\n",
              "    </tr>\n",
              "    <tr>\n",
              "      <th>classe</th>\n",
              "      <td>5563.0</td>\n",
              "      <td>1.521481</td>\n",
              "      <td>6.712602e-01</td>\n",
              "      <td>1.000000</td>\n",
              "      <td>1.000000</td>\n",
              "      <td>1.000000</td>\n",
              "      <td>2.000000</td>\n",
              "      <td>5.000000e+00</td>\n",
              "    </tr>\n",
              "  </tbody>\n",
              "</table>\n",
              "</div>\n",
              "      <button class=\"colab-df-convert\" onclick=\"convertToInteractive('df-193eb541-b901-4dc6-a84a-0bf92eca3b3f')\"\n",
              "              title=\"Convert this dataframe to an interactive table.\"\n",
              "              style=\"display:none;\">\n",
              "        \n",
              "  <svg xmlns=\"http://www.w3.org/2000/svg\" height=\"24px\"viewBox=\"0 0 24 24\"\n",
              "       width=\"24px\">\n",
              "    <path d=\"M0 0h24v24H0V0z\" fill=\"none\"/>\n",
              "    <path d=\"M18.56 5.44l.94 2.06.94-2.06 2.06-.94-2.06-.94-.94-2.06-.94 2.06-2.06.94zm-11 1L8.5 8.5l.94-2.06 2.06-.94-2.06-.94L8.5 2.5l-.94 2.06-2.06.94zm10 10l.94 2.06.94-2.06 2.06-.94-2.06-.94-.94-2.06-.94 2.06-2.06.94z\"/><path d=\"M17.41 7.96l-1.37-1.37c-.4-.4-.92-.59-1.43-.59-.52 0-1.04.2-1.43.59L10.3 9.45l-7.72 7.72c-.78.78-.78 2.05 0 2.83L4 21.41c.39.39.9.59 1.41.59.51 0 1.02-.2 1.41-.59l7.78-7.78 2.81-2.81c.8-.78.8-2.07 0-2.86zM5.41 20L4 18.59l7.72-7.72 1.47 1.35L5.41 20z\"/>\n",
              "  </svg>\n",
              "      </button>\n",
              "      \n",
              "  <style>\n",
              "    .colab-df-container {\n",
              "      display:flex;\n",
              "      flex-wrap:wrap;\n",
              "      gap: 12px;\n",
              "    }\n",
              "\n",
              "    .colab-df-convert {\n",
              "      background-color: #E8F0FE;\n",
              "      border: none;\n",
              "      border-radius: 50%;\n",
              "      cursor: pointer;\n",
              "      display: none;\n",
              "      fill: #1967D2;\n",
              "      height: 32px;\n",
              "      padding: 0 0 0 0;\n",
              "      width: 32px;\n",
              "    }\n",
              "\n",
              "    .colab-df-convert:hover {\n",
              "      background-color: #E2EBFA;\n",
              "      box-shadow: 0px 1px 2px rgba(60, 64, 67, 0.3), 0px 1px 3px 1px rgba(60, 64, 67, 0.15);\n",
              "      fill: #174EA6;\n",
              "    }\n",
              "\n",
              "    [theme=dark] .colab-df-convert {\n",
              "      background-color: #3B4455;\n",
              "      fill: #D2E3FC;\n",
              "    }\n",
              "\n",
              "    [theme=dark] .colab-df-convert:hover {\n",
              "      background-color: #434B5C;\n",
              "      box-shadow: 0px 1px 3px 1px rgba(0, 0, 0, 0.15);\n",
              "      filter: drop-shadow(0px 1px 2px rgba(0, 0, 0, 0.3));\n",
              "      fill: #FFFFFF;\n",
              "    }\n",
              "  </style>\n",
              "\n",
              "      <script>\n",
              "        const buttonEl =\n",
              "          document.querySelector('#df-193eb541-b901-4dc6-a84a-0bf92eca3b3f button.colab-df-convert');\n",
              "        buttonEl.style.display =\n",
              "          google.colab.kernel.accessAllowed ? 'block' : 'none';\n",
              "\n",
              "        async function convertToInteractive(key) {\n",
              "          const element = document.querySelector('#df-193eb541-b901-4dc6-a84a-0bf92eca3b3f');\n",
              "          const dataTable =\n",
              "            await google.colab.kernel.invokeFunction('convertToInteractive',\n",
              "                                                     [key], {});\n",
              "          if (!dataTable) return;\n",
              "\n",
              "          const docLinkHtml = 'Like what you see? Visit the ' +\n",
              "            '<a target=\"_blank\" href=https://colab.research.google.com/notebooks/data_table.ipynb>data table notebook</a>'\n",
              "            + ' to learn more about interactive tables.';\n",
              "          element.innerHTML = '';\n",
              "          dataTable['output_type'] = 'display_data';\n",
              "          await google.colab.output.renderOutput(dataTable, element);\n",
              "          const docLink = document.createElement('div');\n",
              "          docLink.innerHTML = docLinkHtml;\n",
              "          element.appendChild(docLink);\n",
              "        }\n",
              "      </script>\n",
              "    </div>\n",
              "  </div>\n",
              "  "
            ]
          },
          "metadata": {},
          "execution_count": 7
        }
      ]
    },
    {
      "cell_type": "code",
      "source": [
        "# manipule os dados"
      ],
      "metadata": {
        "id": "hZTQ8DmIYIre"
      },
      "execution_count": null,
      "outputs": []
    },
    {
      "cell_type": "code",
      "source": [
        "pip install unidecode"
      ],
      "metadata": {
        "colab": {
          "base_uri": "https://localhost:8080/"
        },
        "id": "VghjpMreVE_Y",
        "outputId": "59eacae5-4d66-473a-f9bd-687d4935379c"
      },
      "execution_count": 8,
      "outputs": [
        {
          "output_type": "stream",
          "name": "stdout",
          "text": [
            "Looking in indexes: https://pypi.org/simple, https://us-python.pkg.dev/colab-wheels/public/simple/\n",
            "Collecting unidecode\n",
            "  Downloading Unidecode-1.3.4-py3-none-any.whl (235 kB)\n",
            "\u001b[K     |████████████████████████████████| 235 kB 6.7 MB/s \n",
            "\u001b[?25hInstalling collected packages: unidecode\n",
            "Successfully installed unidecode-1.3.4\n"
          ]
        }
      ]
    },
    {
      "cell_type": "code",
      "metadata": {
        "id": "BRVLwHxHYq96"
      },
      "source": [
        "from numpy import unicode_\n",
        "from operator import index\n",
        "from unidecode import unidecode\n",
        "\n",
        "#Selecionando colunas do fonte_Df\n",
        "cidades_limpo_df = fonte_df.query('Censo == 2010')[['UF', 'nome', 'PIB', 'Pop_est_2009', 'PIB_percapita']]\n",
        "\n",
        "#Renomeando colunas e tirando acentuação\n",
        "cidades_limpo_df.rename(columns= {'UF':'estado',\n",
        "                                  'nome':'cidade',\n",
        "                                  'PIB':'pib',\n",
        "                                  'Pop_est_2009':'pop_est_2009', \n",
        "                                  'PIB_percapita':'pib_percapita'}, inplace= True)\n",
        "\n",
        "\n",
        "cidades_limpo_df['estado'] = cidades_limpo_df['estado'].map(lambda x: unidecode(x))\n",
        "\n"
      ],
      "execution_count": 9,
      "outputs": []
    },
    {
      "cell_type": "code",
      "metadata": {
        "id": "GcAWBfwhYq96"
      },
      "source": [
        "# escrever o conteudo extraido no arquivo cidades-limpo.csv separados por ;\n",
        "\n",
        "NOME_ARQUIVO_DESTINO = 'cidades-limpo.csv'\n",
        "\n",
        "cidades_limpo_df.to_csv(NOME_ARQUIVO_DESTINO, sep=';', index=False)\n"
      ],
      "execution_count": 10,
      "outputs": []
    },
    {
      "cell_type": "markdown",
      "metadata": {
        "id": "EBzoHVD8b_c7"
      },
      "source": [
        "### **1.3. Brasil** "
      ]
    },
    {
      "cell_type": "markdown",
      "metadata": {
        "id": "Ft6l5bDwb_c7"
      },
      "source": [
        "Utilize o pacote Python `pandas` para combinar os dados do arquivo `estados-bruto.csv` com os dados do arquivo `cidades-bruto.csv` em um único dataframe. Escolha a coluna e o método de combinação de tal forma que **não haja perda de dados** no processo (não produzirá valores nulos `NaN`). Salve os dados do dataframe no arquivo `brasil.csv`"
      ]
    },
    {
      "cell_type": "code",
      "metadata": {
        "id": "Vz3J7G4-dBXa"
      },
      "source": [
        "# solução do exercício 1.3\n",
        "\n",
        "fonte_cidades = 'cidades-limpo.csv'\n",
        "\n",
        "fonte_estados = 'estados-limpo.csv'\n",
        "\n",
        "NOME_ARQUIVO_DESTINO = 'brasil.csv'\n",
        "\n",
        "cidades_df = pd.read_csv(fonte_cidades, sep=';')\n",
        "\n",
        "estados_df = pd.read_csv(fonte_estados, sep=';')\n",
        "\n",
        "brasil_df = pd.merge(left=cidades_df, right=estados_df, on='estado', how='outer')\n",
        "\n",
        "brasil_df.to_csv(NOME_ARQUIVO_DESTINO, sep=';', index=False)\n"
      ],
      "execution_count": 11,
      "outputs": []
    },
    {
      "cell_type": "markdown",
      "metadata": {
        "id": "waxn4B2UDHyl"
      },
      "source": [
        "---"
      ]
    },
    {
      "cell_type": "markdown",
      "metadata": {
        "id": "finLQoyyGVmk"
      },
      "source": [
        "## 2\\. Data Analytics"
      ]
    },
    {
      "cell_type": "markdown",
      "metadata": {
        "id": "Ab0GW19Ed1ig"
      },
      "source": [
        "### **2.1. DataFrame** "
      ]
    },
    {
      "cell_type": "markdown",
      "metadata": {
        "id": "l8jJYjeBdijt"
      },
      "source": [
        "Utilize o pacote Python `pandas` para carregar o arquivo `brasil.csv` no dataframe `brasil_df`."
      ]
    },
    {
      "cell_type": "code",
      "metadata": {
        "id": "8kFQLlqud4QL"
      },
      "source": [
        "# solução do exercício 2.1\n",
        "\n",
        "import pandas as pd\n",
        "\n",
        "NOME_ARQUIVO_FONTE = 'brasil.csv'\n",
        "\n",
        "brasil_df = pd.read_csv(NOME_ARQUIVO_FONTE, sep=';')"
      ],
      "execution_count": 12,
      "outputs": []
    },
    {
      "cell_type": "markdown",
      "metadata": {
        "id": "ZFWvK8FXHuex"
      },
      "source": [
        "### **2.2. Analise** "
      ]
    },
    {
      "cell_type": "markdown",
      "metadata": {
        "id": "EGyz0R1dd62D"
      },
      "source": [
        "Utilize o dataframe `brasil_df` para responder as seguintes perguntas de negócio:"
      ]
    },
    {
      "cell_type": "markdown",
      "metadata": {
        "id": "lGnYVp7IeFBD"
      },
      "source": [
        " - Quais são as 10 cidades mais populosas do Brasil?"
      ]
    },
    {
      "cell_type": "code",
      "metadata": {
        "id": "KQKcD-VkeQYf",
        "colab": {
          "base_uri": "https://localhost:8080/",
          "height": 363
        },
        "outputId": "0f96fb28-7cdb-4328-d6a7-dce4504661a9"
      },
      "source": [
        "# código para responder a pergunta\n",
        "\n",
        "dez_cidades_pop = brasil_df.sort_values(by=['pop_est_2009'], ascending=False).head(10).reset_index(drop=True)\n",
        "dez_cidades_pop\n"
      ],
      "execution_count": 13,
      "outputs": [
        {
          "output_type": "execute_result",
          "data": {
            "text/plain": [
              "             estado          cidade          pib  pop_est_2009  pib_percapita  \\\n",
              "0         SAO PAULO       São Paulo  389317152.0      11037593   35271.929688   \n",
              "1    RIO DE JANEIRO  Rio de Janeiro  175739344.0       6186710   28405.949219   \n",
              "2             BAHIA        Salvador   32824228.0       2998056   10948.500000   \n",
              "3  DISTRITO FEDERAL        Brasília  131487264.0       2606885   50438.460938   \n",
              "4             CEARA       Fortaleza   31789186.0       2505552   12687.500000   \n",
              "5      MINAS GERAIS  Belo Horizonte   44595204.0       2452617   18182.699219   \n",
              "6            PARANA        Curitiba   45762420.0       1851215   24720.210938   \n",
              "7          AMAZONAS          Manaus   40486108.0       1738641   23286.060547   \n",
              "8        PERNAMBUCO          Recife   24835340.0       1561659   15903.179688   \n",
              "9              PARA           Belém   16526989.0       1437600   11496.240234   \n",
              "\n",
              "  sigla        regiao  \n",
              "0    SP       SUDESTE  \n",
              "1    RJ       SUDESTE  \n",
              "2    BA      NORDESTE  \n",
              "3    DF  CENTRO-OESTE  \n",
              "4    CE      NORDESTE  \n",
              "5    MG       SUDESTE  \n",
              "6    PR           SUL  \n",
              "7    AM         NORTE  \n",
              "8    PE      NORDESTE  \n",
              "9    PA         NORTE  "
            ],
            "text/html": [
              "\n",
              "  <div id=\"df-393167c0-4972-45a1-a941-6b071f77d651\">\n",
              "    <div class=\"colab-df-container\">\n",
              "      <div>\n",
              "<style scoped>\n",
              "    .dataframe tbody tr th:only-of-type {\n",
              "        vertical-align: middle;\n",
              "    }\n",
              "\n",
              "    .dataframe tbody tr th {\n",
              "        vertical-align: top;\n",
              "    }\n",
              "\n",
              "    .dataframe thead th {\n",
              "        text-align: right;\n",
              "    }\n",
              "</style>\n",
              "<table border=\"1\" class=\"dataframe\">\n",
              "  <thead>\n",
              "    <tr style=\"text-align: right;\">\n",
              "      <th></th>\n",
              "      <th>estado</th>\n",
              "      <th>cidade</th>\n",
              "      <th>pib</th>\n",
              "      <th>pop_est_2009</th>\n",
              "      <th>pib_percapita</th>\n",
              "      <th>sigla</th>\n",
              "      <th>regiao</th>\n",
              "    </tr>\n",
              "  </thead>\n",
              "  <tbody>\n",
              "    <tr>\n",
              "      <th>0</th>\n",
              "      <td>SAO PAULO</td>\n",
              "      <td>São Paulo</td>\n",
              "      <td>389317152.0</td>\n",
              "      <td>11037593</td>\n",
              "      <td>35271.929688</td>\n",
              "      <td>SP</td>\n",
              "      <td>SUDESTE</td>\n",
              "    </tr>\n",
              "    <tr>\n",
              "      <th>1</th>\n",
              "      <td>RIO DE JANEIRO</td>\n",
              "      <td>Rio de Janeiro</td>\n",
              "      <td>175739344.0</td>\n",
              "      <td>6186710</td>\n",
              "      <td>28405.949219</td>\n",
              "      <td>RJ</td>\n",
              "      <td>SUDESTE</td>\n",
              "    </tr>\n",
              "    <tr>\n",
              "      <th>2</th>\n",
              "      <td>BAHIA</td>\n",
              "      <td>Salvador</td>\n",
              "      <td>32824228.0</td>\n",
              "      <td>2998056</td>\n",
              "      <td>10948.500000</td>\n",
              "      <td>BA</td>\n",
              "      <td>NORDESTE</td>\n",
              "    </tr>\n",
              "    <tr>\n",
              "      <th>3</th>\n",
              "      <td>DISTRITO FEDERAL</td>\n",
              "      <td>Brasília</td>\n",
              "      <td>131487264.0</td>\n",
              "      <td>2606885</td>\n",
              "      <td>50438.460938</td>\n",
              "      <td>DF</td>\n",
              "      <td>CENTRO-OESTE</td>\n",
              "    </tr>\n",
              "    <tr>\n",
              "      <th>4</th>\n",
              "      <td>CEARA</td>\n",
              "      <td>Fortaleza</td>\n",
              "      <td>31789186.0</td>\n",
              "      <td>2505552</td>\n",
              "      <td>12687.500000</td>\n",
              "      <td>CE</td>\n",
              "      <td>NORDESTE</td>\n",
              "    </tr>\n",
              "    <tr>\n",
              "      <th>5</th>\n",
              "      <td>MINAS GERAIS</td>\n",
              "      <td>Belo Horizonte</td>\n",
              "      <td>44595204.0</td>\n",
              "      <td>2452617</td>\n",
              "      <td>18182.699219</td>\n",
              "      <td>MG</td>\n",
              "      <td>SUDESTE</td>\n",
              "    </tr>\n",
              "    <tr>\n",
              "      <th>6</th>\n",
              "      <td>PARANA</td>\n",
              "      <td>Curitiba</td>\n",
              "      <td>45762420.0</td>\n",
              "      <td>1851215</td>\n",
              "      <td>24720.210938</td>\n",
              "      <td>PR</td>\n",
              "      <td>SUL</td>\n",
              "    </tr>\n",
              "    <tr>\n",
              "      <th>7</th>\n",
              "      <td>AMAZONAS</td>\n",
              "      <td>Manaus</td>\n",
              "      <td>40486108.0</td>\n",
              "      <td>1738641</td>\n",
              "      <td>23286.060547</td>\n",
              "      <td>AM</td>\n",
              "      <td>NORTE</td>\n",
              "    </tr>\n",
              "    <tr>\n",
              "      <th>8</th>\n",
              "      <td>PERNAMBUCO</td>\n",
              "      <td>Recife</td>\n",
              "      <td>24835340.0</td>\n",
              "      <td>1561659</td>\n",
              "      <td>15903.179688</td>\n",
              "      <td>PE</td>\n",
              "      <td>NORDESTE</td>\n",
              "    </tr>\n",
              "    <tr>\n",
              "      <th>9</th>\n",
              "      <td>PARA</td>\n",
              "      <td>Belém</td>\n",
              "      <td>16526989.0</td>\n",
              "      <td>1437600</td>\n",
              "      <td>11496.240234</td>\n",
              "      <td>PA</td>\n",
              "      <td>NORTE</td>\n",
              "    </tr>\n",
              "  </tbody>\n",
              "</table>\n",
              "</div>\n",
              "      <button class=\"colab-df-convert\" onclick=\"convertToInteractive('df-393167c0-4972-45a1-a941-6b071f77d651')\"\n",
              "              title=\"Convert this dataframe to an interactive table.\"\n",
              "              style=\"display:none;\">\n",
              "        \n",
              "  <svg xmlns=\"http://www.w3.org/2000/svg\" height=\"24px\"viewBox=\"0 0 24 24\"\n",
              "       width=\"24px\">\n",
              "    <path d=\"M0 0h24v24H0V0z\" fill=\"none\"/>\n",
              "    <path d=\"M18.56 5.44l.94 2.06.94-2.06 2.06-.94-2.06-.94-.94-2.06-.94 2.06-2.06.94zm-11 1L8.5 8.5l.94-2.06 2.06-.94-2.06-.94L8.5 2.5l-.94 2.06-2.06.94zm10 10l.94 2.06.94-2.06 2.06-.94-2.06-.94-.94-2.06-.94 2.06-2.06.94z\"/><path d=\"M17.41 7.96l-1.37-1.37c-.4-.4-.92-.59-1.43-.59-.52 0-1.04.2-1.43.59L10.3 9.45l-7.72 7.72c-.78.78-.78 2.05 0 2.83L4 21.41c.39.39.9.59 1.41.59.51 0 1.02-.2 1.41-.59l7.78-7.78 2.81-2.81c.8-.78.8-2.07 0-2.86zM5.41 20L4 18.59l7.72-7.72 1.47 1.35L5.41 20z\"/>\n",
              "  </svg>\n",
              "      </button>\n",
              "      \n",
              "  <style>\n",
              "    .colab-df-container {\n",
              "      display:flex;\n",
              "      flex-wrap:wrap;\n",
              "      gap: 12px;\n",
              "    }\n",
              "\n",
              "    .colab-df-convert {\n",
              "      background-color: #E8F0FE;\n",
              "      border: none;\n",
              "      border-radius: 50%;\n",
              "      cursor: pointer;\n",
              "      display: none;\n",
              "      fill: #1967D2;\n",
              "      height: 32px;\n",
              "      padding: 0 0 0 0;\n",
              "      width: 32px;\n",
              "    }\n",
              "\n",
              "    .colab-df-convert:hover {\n",
              "      background-color: #E2EBFA;\n",
              "      box-shadow: 0px 1px 2px rgba(60, 64, 67, 0.3), 0px 1px 3px 1px rgba(60, 64, 67, 0.15);\n",
              "      fill: #174EA6;\n",
              "    }\n",
              "\n",
              "    [theme=dark] .colab-df-convert {\n",
              "      background-color: #3B4455;\n",
              "      fill: #D2E3FC;\n",
              "    }\n",
              "\n",
              "    [theme=dark] .colab-df-convert:hover {\n",
              "      background-color: #434B5C;\n",
              "      box-shadow: 0px 1px 3px 1px rgba(0, 0, 0, 0.15);\n",
              "      filter: drop-shadow(0px 1px 2px rgba(0, 0, 0, 0.3));\n",
              "      fill: #FFFFFF;\n",
              "    }\n",
              "  </style>\n",
              "\n",
              "      <script>\n",
              "        const buttonEl =\n",
              "          document.querySelector('#df-393167c0-4972-45a1-a941-6b071f77d651 button.colab-df-convert');\n",
              "        buttonEl.style.display =\n",
              "          google.colab.kernel.accessAllowed ? 'block' : 'none';\n",
              "\n",
              "        async function convertToInteractive(key) {\n",
              "          const element = document.querySelector('#df-393167c0-4972-45a1-a941-6b071f77d651');\n",
              "          const dataTable =\n",
              "            await google.colab.kernel.invokeFunction('convertToInteractive',\n",
              "                                                     [key], {});\n",
              "          if (!dataTable) return;\n",
              "\n",
              "          const docLinkHtml = 'Like what you see? Visit the ' +\n",
              "            '<a target=\"_blank\" href=https://colab.research.google.com/notebooks/data_table.ipynb>data table notebook</a>'\n",
              "            + ' to learn more about interactive tables.';\n",
              "          element.innerHTML = '';\n",
              "          dataTable['output_type'] = 'display_data';\n",
              "          await google.colab.output.renderOutput(dataTable, element);\n",
              "          const docLink = document.createElement('div');\n",
              "          docLink.innerHTML = docLinkHtml;\n",
              "          element.appendChild(docLink);\n",
              "        }\n",
              "      </script>\n",
              "    </div>\n",
              "  </div>\n",
              "  "
            ]
          },
          "metadata": {},
          "execution_count": 13
        }
      ]
    },
    {
      "cell_type": "markdown",
      "metadata": {
        "id": "l93St6uleWTp"
      },
      "source": [
        " - Quais são as 5 cidades com a menor PIB per capita da região nordeste?"
      ]
    },
    {
      "cell_type": "code",
      "metadata": {
        "id": "DS5akh2zeWTq",
        "colab": {
          "base_uri": "https://localhost:8080/",
          "height": 206
        },
        "outputId": "7251f9ea-6065-43a9-8c0f-bf2d06aa1a14"
      },
      "source": [
        "# código para responder a pergunta\n",
        "\n",
        "brasil_df.sort_values(by=['pib'], ascending=True).head(5).reset_index(drop=True)"
      ],
      "execution_count": 14,
      "outputs": [
        {
          "output_type": "execute_result",
          "data": {
            "text/plain": [
              "    estado                      cidade          pib  pop_est_2009  \\\n",
              "0    PIAUI  Santo Antônio dos Milagres  5770.282227          2032   \n",
              "1    PIAUI  São Miguel da Baixa Grande  7714.598145          2153   \n",
              "2    GOIAS                  Anhanguera  8194.404297          1018   \n",
              "3  PARAIBA                     Quixabá  8294.528320          1488   \n",
              "4    PIAUI                 Miguel Leão  8365.680664          1212   \n",
              "\n",
              "   pib_percapita sigla        regiao  \n",
              "0    2839.709961    PI      NORDESTE  \n",
              "1    3583.189941    PI      NORDESTE  \n",
              "2    8049.509766    GO  CENTRO-OESTE  \n",
              "3    5574.279785    PB      NORDESTE  \n",
              "4    6902.379883    PI      NORDESTE  "
            ],
            "text/html": [
              "\n",
              "  <div id=\"df-183e79e0-3d7e-409f-8af4-bcd4f877156d\">\n",
              "    <div class=\"colab-df-container\">\n",
              "      <div>\n",
              "<style scoped>\n",
              "    .dataframe tbody tr th:only-of-type {\n",
              "        vertical-align: middle;\n",
              "    }\n",
              "\n",
              "    .dataframe tbody tr th {\n",
              "        vertical-align: top;\n",
              "    }\n",
              "\n",
              "    .dataframe thead th {\n",
              "        text-align: right;\n",
              "    }\n",
              "</style>\n",
              "<table border=\"1\" class=\"dataframe\">\n",
              "  <thead>\n",
              "    <tr style=\"text-align: right;\">\n",
              "      <th></th>\n",
              "      <th>estado</th>\n",
              "      <th>cidade</th>\n",
              "      <th>pib</th>\n",
              "      <th>pop_est_2009</th>\n",
              "      <th>pib_percapita</th>\n",
              "      <th>sigla</th>\n",
              "      <th>regiao</th>\n",
              "    </tr>\n",
              "  </thead>\n",
              "  <tbody>\n",
              "    <tr>\n",
              "      <th>0</th>\n",
              "      <td>PIAUI</td>\n",
              "      <td>Santo Antônio dos Milagres</td>\n",
              "      <td>5770.282227</td>\n",
              "      <td>2032</td>\n",
              "      <td>2839.709961</td>\n",
              "      <td>PI</td>\n",
              "      <td>NORDESTE</td>\n",
              "    </tr>\n",
              "    <tr>\n",
              "      <th>1</th>\n",
              "      <td>PIAUI</td>\n",
              "      <td>São Miguel da Baixa Grande</td>\n",
              "      <td>7714.598145</td>\n",
              "      <td>2153</td>\n",
              "      <td>3583.189941</td>\n",
              "      <td>PI</td>\n",
              "      <td>NORDESTE</td>\n",
              "    </tr>\n",
              "    <tr>\n",
              "      <th>2</th>\n",
              "      <td>GOIAS</td>\n",
              "      <td>Anhanguera</td>\n",
              "      <td>8194.404297</td>\n",
              "      <td>1018</td>\n",
              "      <td>8049.509766</td>\n",
              "      <td>GO</td>\n",
              "      <td>CENTRO-OESTE</td>\n",
              "    </tr>\n",
              "    <tr>\n",
              "      <th>3</th>\n",
              "      <td>PARAIBA</td>\n",
              "      <td>Quixabá</td>\n",
              "      <td>8294.528320</td>\n",
              "      <td>1488</td>\n",
              "      <td>5574.279785</td>\n",
              "      <td>PB</td>\n",
              "      <td>NORDESTE</td>\n",
              "    </tr>\n",
              "    <tr>\n",
              "      <th>4</th>\n",
              "      <td>PIAUI</td>\n",
              "      <td>Miguel Leão</td>\n",
              "      <td>8365.680664</td>\n",
              "      <td>1212</td>\n",
              "      <td>6902.379883</td>\n",
              "      <td>PI</td>\n",
              "      <td>NORDESTE</td>\n",
              "    </tr>\n",
              "  </tbody>\n",
              "</table>\n",
              "</div>\n",
              "      <button class=\"colab-df-convert\" onclick=\"convertToInteractive('df-183e79e0-3d7e-409f-8af4-bcd4f877156d')\"\n",
              "              title=\"Convert this dataframe to an interactive table.\"\n",
              "              style=\"display:none;\">\n",
              "        \n",
              "  <svg xmlns=\"http://www.w3.org/2000/svg\" height=\"24px\"viewBox=\"0 0 24 24\"\n",
              "       width=\"24px\">\n",
              "    <path d=\"M0 0h24v24H0V0z\" fill=\"none\"/>\n",
              "    <path d=\"M18.56 5.44l.94 2.06.94-2.06 2.06-.94-2.06-.94-.94-2.06-.94 2.06-2.06.94zm-11 1L8.5 8.5l.94-2.06 2.06-.94-2.06-.94L8.5 2.5l-.94 2.06-2.06.94zm10 10l.94 2.06.94-2.06 2.06-.94-2.06-.94-.94-2.06-.94 2.06-2.06.94z\"/><path d=\"M17.41 7.96l-1.37-1.37c-.4-.4-.92-.59-1.43-.59-.52 0-1.04.2-1.43.59L10.3 9.45l-7.72 7.72c-.78.78-.78 2.05 0 2.83L4 21.41c.39.39.9.59 1.41.59.51 0 1.02-.2 1.41-.59l7.78-7.78 2.81-2.81c.8-.78.8-2.07 0-2.86zM5.41 20L4 18.59l7.72-7.72 1.47 1.35L5.41 20z\"/>\n",
              "  </svg>\n",
              "      </button>\n",
              "      \n",
              "  <style>\n",
              "    .colab-df-container {\n",
              "      display:flex;\n",
              "      flex-wrap:wrap;\n",
              "      gap: 12px;\n",
              "    }\n",
              "\n",
              "    .colab-df-convert {\n",
              "      background-color: #E8F0FE;\n",
              "      border: none;\n",
              "      border-radius: 50%;\n",
              "      cursor: pointer;\n",
              "      display: none;\n",
              "      fill: #1967D2;\n",
              "      height: 32px;\n",
              "      padding: 0 0 0 0;\n",
              "      width: 32px;\n",
              "    }\n",
              "\n",
              "    .colab-df-convert:hover {\n",
              "      background-color: #E2EBFA;\n",
              "      box-shadow: 0px 1px 2px rgba(60, 64, 67, 0.3), 0px 1px 3px 1px rgba(60, 64, 67, 0.15);\n",
              "      fill: #174EA6;\n",
              "    }\n",
              "\n",
              "    [theme=dark] .colab-df-convert {\n",
              "      background-color: #3B4455;\n",
              "      fill: #D2E3FC;\n",
              "    }\n",
              "\n",
              "    [theme=dark] .colab-df-convert:hover {\n",
              "      background-color: #434B5C;\n",
              "      box-shadow: 0px 1px 3px 1px rgba(0, 0, 0, 0.15);\n",
              "      filter: drop-shadow(0px 1px 2px rgba(0, 0, 0, 0.3));\n",
              "      fill: #FFFFFF;\n",
              "    }\n",
              "  </style>\n",
              "\n",
              "      <script>\n",
              "        const buttonEl =\n",
              "          document.querySelector('#df-183e79e0-3d7e-409f-8af4-bcd4f877156d button.colab-df-convert');\n",
              "        buttonEl.style.display =\n",
              "          google.colab.kernel.accessAllowed ? 'block' : 'none';\n",
              "\n",
              "        async function convertToInteractive(key) {\n",
              "          const element = document.querySelector('#df-183e79e0-3d7e-409f-8af4-bcd4f877156d');\n",
              "          const dataTable =\n",
              "            await google.colab.kernel.invokeFunction('convertToInteractive',\n",
              "                                                     [key], {});\n",
              "          if (!dataTable) return;\n",
              "\n",
              "          const docLinkHtml = 'Like what you see? Visit the ' +\n",
              "            '<a target=\"_blank\" href=https://colab.research.google.com/notebooks/data_table.ipynb>data table notebook</a>'\n",
              "            + ' to learn more about interactive tables.';\n",
              "          element.innerHTML = '';\n",
              "          dataTable['output_type'] = 'display_data';\n",
              "          await google.colab.output.renderOutput(dataTable, element);\n",
              "          const docLink = document.createElement('div');\n",
              "          docLink.innerHTML = docLinkHtml;\n",
              "          element.appendChild(docLink);\n",
              "        }\n",
              "      </script>\n",
              "    </div>\n",
              "  </div>\n",
              "  "
            ]
          },
          "metadata": {},
          "execution_count": 14
        }
      ]
    },
    {
      "cell_type": "markdown",
      "metadata": {
        "id": "GqwffgUmedmb"
      },
      "source": [
        " - Quais são as 15 cidades com maior PIB do do estado de São Paulo?"
      ]
    },
    {
      "cell_type": "code",
      "metadata": {
        "id": "tFKEn1gLedmc",
        "colab": {
          "base_uri": "https://localhost:8080/",
          "height": 520
        },
        "outputId": "15c7b9cc-f32f-4db4-b721-cae45621be67"
      },
      "source": [
        "# código para responder a pergunta\n",
        "\n",
        "brasil_df.query('estado == \"SAO PAULO\"').sort_values(by=['pib'], ascending=False).head(15).reset_index(drop=True)"
      ],
      "execution_count": 15,
      "outputs": [
        {
          "output_type": "execute_result",
          "data": {
            "text/plain": [
              "       estado                 cidade          pib  pop_est_2009  \\\n",
              "0   SAO PAULO              São Paulo  389317152.0      11037593   \n",
              "1   SAO PAULO              Guarulhos   32473828.0       1299283   \n",
              "2   SAO PAULO               Campinas   31654720.0       1064669   \n",
              "3   SAO PAULO                 Osasco   31616452.0        718646   \n",
              "4   SAO PAULO  São Bernardo do Campo   28935768.0        810979   \n",
              "5   SAO PAULO                Barueri   26908070.0        270173   \n",
              "6   SAO PAULO                 Santos   22546134.0        417098   \n",
              "7   SAO PAULO    São José dos Campos   22018042.0        615871   \n",
              "8   SAO PAULO                Jundiaí   16585137.0        349929   \n",
              "9   SAO PAULO            Santo André   14709603.0        673396   \n",
              "10  SAO PAULO         Ribeirão Preto   14688064.0        563107   \n",
              "11  SAO PAULO               Sorocaba   14182597.0        584313   \n",
              "12  SAO PAULO                Diadema    9969819.0        397738   \n",
              "13  SAO PAULO             Piracicaba    9601211.0        368843   \n",
              "14  SAO PAULO     São Caetano do Sul    8920202.0        152093   \n",
              "\n",
              "    pib_percapita sigla   regiao  \n",
              "0    35271.929688    SP  SUDESTE  \n",
              "1    24993.650391    SP  SUDESTE  \n",
              "2    29731.980469    SP  SUDESTE  \n",
              "3    43994.468750    SP  SUDESTE  \n",
              "4    35680.050781    SP  SUDESTE  \n",
              "5    99595.703125    SP  SUDESTE  \n",
              "6    54054.761719    SP  SUDESTE  \n",
              "7    35751.058594    SP  SUDESTE  \n",
              "8    47395.718750    SP  SUDESTE  \n",
              "9    21843.910156    SP  SUDESTE  \n",
              "10   26083.970703    SP  SUDESTE  \n",
              "11   24272.259766    SP  SUDESTE  \n",
              "12   25066.300781    SP  SUDESTE  \n",
              "13   26030.619141    SP  SUDESTE  \n",
              "14   58649.648438    SP  SUDESTE  "
            ],
            "text/html": [
              "\n",
              "  <div id=\"df-d56f7869-7010-4fa1-828f-910a5106ab3f\">\n",
              "    <div class=\"colab-df-container\">\n",
              "      <div>\n",
              "<style scoped>\n",
              "    .dataframe tbody tr th:only-of-type {\n",
              "        vertical-align: middle;\n",
              "    }\n",
              "\n",
              "    .dataframe tbody tr th {\n",
              "        vertical-align: top;\n",
              "    }\n",
              "\n",
              "    .dataframe thead th {\n",
              "        text-align: right;\n",
              "    }\n",
              "</style>\n",
              "<table border=\"1\" class=\"dataframe\">\n",
              "  <thead>\n",
              "    <tr style=\"text-align: right;\">\n",
              "      <th></th>\n",
              "      <th>estado</th>\n",
              "      <th>cidade</th>\n",
              "      <th>pib</th>\n",
              "      <th>pop_est_2009</th>\n",
              "      <th>pib_percapita</th>\n",
              "      <th>sigla</th>\n",
              "      <th>regiao</th>\n",
              "    </tr>\n",
              "  </thead>\n",
              "  <tbody>\n",
              "    <tr>\n",
              "      <th>0</th>\n",
              "      <td>SAO PAULO</td>\n",
              "      <td>São Paulo</td>\n",
              "      <td>389317152.0</td>\n",
              "      <td>11037593</td>\n",
              "      <td>35271.929688</td>\n",
              "      <td>SP</td>\n",
              "      <td>SUDESTE</td>\n",
              "    </tr>\n",
              "    <tr>\n",
              "      <th>1</th>\n",
              "      <td>SAO PAULO</td>\n",
              "      <td>Guarulhos</td>\n",
              "      <td>32473828.0</td>\n",
              "      <td>1299283</td>\n",
              "      <td>24993.650391</td>\n",
              "      <td>SP</td>\n",
              "      <td>SUDESTE</td>\n",
              "    </tr>\n",
              "    <tr>\n",
              "      <th>2</th>\n",
              "      <td>SAO PAULO</td>\n",
              "      <td>Campinas</td>\n",
              "      <td>31654720.0</td>\n",
              "      <td>1064669</td>\n",
              "      <td>29731.980469</td>\n",
              "      <td>SP</td>\n",
              "      <td>SUDESTE</td>\n",
              "    </tr>\n",
              "    <tr>\n",
              "      <th>3</th>\n",
              "      <td>SAO PAULO</td>\n",
              "      <td>Osasco</td>\n",
              "      <td>31616452.0</td>\n",
              "      <td>718646</td>\n",
              "      <td>43994.468750</td>\n",
              "      <td>SP</td>\n",
              "      <td>SUDESTE</td>\n",
              "    </tr>\n",
              "    <tr>\n",
              "      <th>4</th>\n",
              "      <td>SAO PAULO</td>\n",
              "      <td>São Bernardo do Campo</td>\n",
              "      <td>28935768.0</td>\n",
              "      <td>810979</td>\n",
              "      <td>35680.050781</td>\n",
              "      <td>SP</td>\n",
              "      <td>SUDESTE</td>\n",
              "    </tr>\n",
              "    <tr>\n",
              "      <th>5</th>\n",
              "      <td>SAO PAULO</td>\n",
              "      <td>Barueri</td>\n",
              "      <td>26908070.0</td>\n",
              "      <td>270173</td>\n",
              "      <td>99595.703125</td>\n",
              "      <td>SP</td>\n",
              "      <td>SUDESTE</td>\n",
              "    </tr>\n",
              "    <tr>\n",
              "      <th>6</th>\n",
              "      <td>SAO PAULO</td>\n",
              "      <td>Santos</td>\n",
              "      <td>22546134.0</td>\n",
              "      <td>417098</td>\n",
              "      <td>54054.761719</td>\n",
              "      <td>SP</td>\n",
              "      <td>SUDESTE</td>\n",
              "    </tr>\n",
              "    <tr>\n",
              "      <th>7</th>\n",
              "      <td>SAO PAULO</td>\n",
              "      <td>São José dos Campos</td>\n",
              "      <td>22018042.0</td>\n",
              "      <td>615871</td>\n",
              "      <td>35751.058594</td>\n",
              "      <td>SP</td>\n",
              "      <td>SUDESTE</td>\n",
              "    </tr>\n",
              "    <tr>\n",
              "      <th>8</th>\n",
              "      <td>SAO PAULO</td>\n",
              "      <td>Jundiaí</td>\n",
              "      <td>16585137.0</td>\n",
              "      <td>349929</td>\n",
              "      <td>47395.718750</td>\n",
              "      <td>SP</td>\n",
              "      <td>SUDESTE</td>\n",
              "    </tr>\n",
              "    <tr>\n",
              "      <th>9</th>\n",
              "      <td>SAO PAULO</td>\n",
              "      <td>Santo André</td>\n",
              "      <td>14709603.0</td>\n",
              "      <td>673396</td>\n",
              "      <td>21843.910156</td>\n",
              "      <td>SP</td>\n",
              "      <td>SUDESTE</td>\n",
              "    </tr>\n",
              "    <tr>\n",
              "      <th>10</th>\n",
              "      <td>SAO PAULO</td>\n",
              "      <td>Ribeirão Preto</td>\n",
              "      <td>14688064.0</td>\n",
              "      <td>563107</td>\n",
              "      <td>26083.970703</td>\n",
              "      <td>SP</td>\n",
              "      <td>SUDESTE</td>\n",
              "    </tr>\n",
              "    <tr>\n",
              "      <th>11</th>\n",
              "      <td>SAO PAULO</td>\n",
              "      <td>Sorocaba</td>\n",
              "      <td>14182597.0</td>\n",
              "      <td>584313</td>\n",
              "      <td>24272.259766</td>\n",
              "      <td>SP</td>\n",
              "      <td>SUDESTE</td>\n",
              "    </tr>\n",
              "    <tr>\n",
              "      <th>12</th>\n",
              "      <td>SAO PAULO</td>\n",
              "      <td>Diadema</td>\n",
              "      <td>9969819.0</td>\n",
              "      <td>397738</td>\n",
              "      <td>25066.300781</td>\n",
              "      <td>SP</td>\n",
              "      <td>SUDESTE</td>\n",
              "    </tr>\n",
              "    <tr>\n",
              "      <th>13</th>\n",
              "      <td>SAO PAULO</td>\n",
              "      <td>Piracicaba</td>\n",
              "      <td>9601211.0</td>\n",
              "      <td>368843</td>\n",
              "      <td>26030.619141</td>\n",
              "      <td>SP</td>\n",
              "      <td>SUDESTE</td>\n",
              "    </tr>\n",
              "    <tr>\n",
              "      <th>14</th>\n",
              "      <td>SAO PAULO</td>\n",
              "      <td>São Caetano do Sul</td>\n",
              "      <td>8920202.0</td>\n",
              "      <td>152093</td>\n",
              "      <td>58649.648438</td>\n",
              "      <td>SP</td>\n",
              "      <td>SUDESTE</td>\n",
              "    </tr>\n",
              "  </tbody>\n",
              "</table>\n",
              "</div>\n",
              "      <button class=\"colab-df-convert\" onclick=\"convertToInteractive('df-d56f7869-7010-4fa1-828f-910a5106ab3f')\"\n",
              "              title=\"Convert this dataframe to an interactive table.\"\n",
              "              style=\"display:none;\">\n",
              "        \n",
              "  <svg xmlns=\"http://www.w3.org/2000/svg\" height=\"24px\"viewBox=\"0 0 24 24\"\n",
              "       width=\"24px\">\n",
              "    <path d=\"M0 0h24v24H0V0z\" fill=\"none\"/>\n",
              "    <path d=\"M18.56 5.44l.94 2.06.94-2.06 2.06-.94-2.06-.94-.94-2.06-.94 2.06-2.06.94zm-11 1L8.5 8.5l.94-2.06 2.06-.94-2.06-.94L8.5 2.5l-.94 2.06-2.06.94zm10 10l.94 2.06.94-2.06 2.06-.94-2.06-.94-.94-2.06-.94 2.06-2.06.94z\"/><path d=\"M17.41 7.96l-1.37-1.37c-.4-.4-.92-.59-1.43-.59-.52 0-1.04.2-1.43.59L10.3 9.45l-7.72 7.72c-.78.78-.78 2.05 0 2.83L4 21.41c.39.39.9.59 1.41.59.51 0 1.02-.2 1.41-.59l7.78-7.78 2.81-2.81c.8-.78.8-2.07 0-2.86zM5.41 20L4 18.59l7.72-7.72 1.47 1.35L5.41 20z\"/>\n",
              "  </svg>\n",
              "      </button>\n",
              "      \n",
              "  <style>\n",
              "    .colab-df-container {\n",
              "      display:flex;\n",
              "      flex-wrap:wrap;\n",
              "      gap: 12px;\n",
              "    }\n",
              "\n",
              "    .colab-df-convert {\n",
              "      background-color: #E8F0FE;\n",
              "      border: none;\n",
              "      border-radius: 50%;\n",
              "      cursor: pointer;\n",
              "      display: none;\n",
              "      fill: #1967D2;\n",
              "      height: 32px;\n",
              "      padding: 0 0 0 0;\n",
              "      width: 32px;\n",
              "    }\n",
              "\n",
              "    .colab-df-convert:hover {\n",
              "      background-color: #E2EBFA;\n",
              "      box-shadow: 0px 1px 2px rgba(60, 64, 67, 0.3), 0px 1px 3px 1px rgba(60, 64, 67, 0.15);\n",
              "      fill: #174EA6;\n",
              "    }\n",
              "\n",
              "    [theme=dark] .colab-df-convert {\n",
              "      background-color: #3B4455;\n",
              "      fill: #D2E3FC;\n",
              "    }\n",
              "\n",
              "    [theme=dark] .colab-df-convert:hover {\n",
              "      background-color: #434B5C;\n",
              "      box-shadow: 0px 1px 3px 1px rgba(0, 0, 0, 0.15);\n",
              "      filter: drop-shadow(0px 1px 2px rgba(0, 0, 0, 0.3));\n",
              "      fill: #FFFFFF;\n",
              "    }\n",
              "  </style>\n",
              "\n",
              "      <script>\n",
              "        const buttonEl =\n",
              "          document.querySelector('#df-d56f7869-7010-4fa1-828f-910a5106ab3f button.colab-df-convert');\n",
              "        buttonEl.style.display =\n",
              "          google.colab.kernel.accessAllowed ? 'block' : 'none';\n",
              "\n",
              "        async function convertToInteractive(key) {\n",
              "          const element = document.querySelector('#df-d56f7869-7010-4fa1-828f-910a5106ab3f');\n",
              "          const dataTable =\n",
              "            await google.colab.kernel.invokeFunction('convertToInteractive',\n",
              "                                                     [key], {});\n",
              "          if (!dataTable) return;\n",
              "\n",
              "          const docLinkHtml = 'Like what you see? Visit the ' +\n",
              "            '<a target=\"_blank\" href=https://colab.research.google.com/notebooks/data_table.ipynb>data table notebook</a>'\n",
              "            + ' to learn more about interactive tables.';\n",
              "          element.innerHTML = '';\n",
              "          dataTable['output_type'] = 'display_data';\n",
              "          await google.colab.output.renderOutput(dataTable, element);\n",
              "          const docLink = document.createElement('div');\n",
              "          docLink.innerHTML = docLinkHtml;\n",
              "          element.appendChild(docLink);\n",
              "        }\n",
              "      </script>\n",
              "    </div>\n",
              "  </div>\n",
              "  "
            ]
          },
          "metadata": {},
          "execution_count": 15
        }
      ]
    },
    {
      "cell_type": "markdown",
      "metadata": {
        "id": "Wg_la1wOewoB"
      },
      "source": [
        " - Qual é o PIB do estado de Santa Catarina?"
      ]
    },
    {
      "cell_type": "code",
      "metadata": {
        "id": "LwGqow5_ewoB",
        "colab": {
          "base_uri": "https://localhost:8080/",
          "height": 81
        },
        "outputId": "0df7b452-80aa-4033-b585-22bcd45a31f9"
      },
      "source": [
        "# código para responder a pergunta\n",
        "\n",
        "brasil_df[['estado','pop_est_2009']].query('estado == \"SANTA CATARINA\"').groupby('estado').agg('sum').T"
      ],
      "execution_count": 16,
      "outputs": [
        {
          "output_type": "execute_result",
          "data": {
            "text/plain": [
              "estado        SANTA CATARINA\n",
              "pop_est_2009         6118743"
            ],
            "text/html": [
              "\n",
              "  <div id=\"df-8748a549-22a0-438e-adf0-9600e1fac084\">\n",
              "    <div class=\"colab-df-container\">\n",
              "      <div>\n",
              "<style scoped>\n",
              "    .dataframe tbody tr th:only-of-type {\n",
              "        vertical-align: middle;\n",
              "    }\n",
              "\n",
              "    .dataframe tbody tr th {\n",
              "        vertical-align: top;\n",
              "    }\n",
              "\n",
              "    .dataframe thead th {\n",
              "        text-align: right;\n",
              "    }\n",
              "</style>\n",
              "<table border=\"1\" class=\"dataframe\">\n",
              "  <thead>\n",
              "    <tr style=\"text-align: right;\">\n",
              "      <th>estado</th>\n",
              "      <th>SANTA CATARINA</th>\n",
              "    </tr>\n",
              "  </thead>\n",
              "  <tbody>\n",
              "    <tr>\n",
              "      <th>pop_est_2009</th>\n",
              "      <td>6118743</td>\n",
              "    </tr>\n",
              "  </tbody>\n",
              "</table>\n",
              "</div>\n",
              "      <button class=\"colab-df-convert\" onclick=\"convertToInteractive('df-8748a549-22a0-438e-adf0-9600e1fac084')\"\n",
              "              title=\"Convert this dataframe to an interactive table.\"\n",
              "              style=\"display:none;\">\n",
              "        \n",
              "  <svg xmlns=\"http://www.w3.org/2000/svg\" height=\"24px\"viewBox=\"0 0 24 24\"\n",
              "       width=\"24px\">\n",
              "    <path d=\"M0 0h24v24H0V0z\" fill=\"none\"/>\n",
              "    <path d=\"M18.56 5.44l.94 2.06.94-2.06 2.06-.94-2.06-.94-.94-2.06-.94 2.06-2.06.94zm-11 1L8.5 8.5l.94-2.06 2.06-.94-2.06-.94L8.5 2.5l-.94 2.06-2.06.94zm10 10l.94 2.06.94-2.06 2.06-.94-2.06-.94-.94-2.06-.94 2.06-2.06.94z\"/><path d=\"M17.41 7.96l-1.37-1.37c-.4-.4-.92-.59-1.43-.59-.52 0-1.04.2-1.43.59L10.3 9.45l-7.72 7.72c-.78.78-.78 2.05 0 2.83L4 21.41c.39.39.9.59 1.41.59.51 0 1.02-.2 1.41-.59l7.78-7.78 2.81-2.81c.8-.78.8-2.07 0-2.86zM5.41 20L4 18.59l7.72-7.72 1.47 1.35L5.41 20z\"/>\n",
              "  </svg>\n",
              "      </button>\n",
              "      \n",
              "  <style>\n",
              "    .colab-df-container {\n",
              "      display:flex;\n",
              "      flex-wrap:wrap;\n",
              "      gap: 12px;\n",
              "    }\n",
              "\n",
              "    .colab-df-convert {\n",
              "      background-color: #E8F0FE;\n",
              "      border: none;\n",
              "      border-radius: 50%;\n",
              "      cursor: pointer;\n",
              "      display: none;\n",
              "      fill: #1967D2;\n",
              "      height: 32px;\n",
              "      padding: 0 0 0 0;\n",
              "      width: 32px;\n",
              "    }\n",
              "\n",
              "    .colab-df-convert:hover {\n",
              "      background-color: #E2EBFA;\n",
              "      box-shadow: 0px 1px 2px rgba(60, 64, 67, 0.3), 0px 1px 3px 1px rgba(60, 64, 67, 0.15);\n",
              "      fill: #174EA6;\n",
              "    }\n",
              "\n",
              "    [theme=dark] .colab-df-convert {\n",
              "      background-color: #3B4455;\n",
              "      fill: #D2E3FC;\n",
              "    }\n",
              "\n",
              "    [theme=dark] .colab-df-convert:hover {\n",
              "      background-color: #434B5C;\n",
              "      box-shadow: 0px 1px 3px 1px rgba(0, 0, 0, 0.15);\n",
              "      filter: drop-shadow(0px 1px 2px rgba(0, 0, 0, 0.3));\n",
              "      fill: #FFFFFF;\n",
              "    }\n",
              "  </style>\n",
              "\n",
              "      <script>\n",
              "        const buttonEl =\n",
              "          document.querySelector('#df-8748a549-22a0-438e-adf0-9600e1fac084 button.colab-df-convert');\n",
              "        buttonEl.style.display =\n",
              "          google.colab.kernel.accessAllowed ? 'block' : 'none';\n",
              "\n",
              "        async function convertToInteractive(key) {\n",
              "          const element = document.querySelector('#df-8748a549-22a0-438e-adf0-9600e1fac084');\n",
              "          const dataTable =\n",
              "            await google.colab.kernel.invokeFunction('convertToInteractive',\n",
              "                                                     [key], {});\n",
              "          if (!dataTable) return;\n",
              "\n",
              "          const docLinkHtml = 'Like what you see? Visit the ' +\n",
              "            '<a target=\"_blank\" href=https://colab.research.google.com/notebooks/data_table.ipynb>data table notebook</a>'\n",
              "            + ' to learn more about interactive tables.';\n",
              "          element.innerHTML = '';\n",
              "          dataTable['output_type'] = 'display_data';\n",
              "          await google.colab.output.renderOutput(dataTable, element);\n",
              "          const docLink = document.createElement('div');\n",
              "          docLink.innerHTML = docLinkHtml;\n",
              "          element.appendChild(docLink);\n",
              "        }\n",
              "      </script>\n",
              "    </div>\n",
              "  </div>\n",
              "  "
            ]
          },
          "metadata": {},
          "execution_count": 16
        }
      ]
    },
    {
      "cell_type": "markdown",
      "metadata": {
        "id": "Yaw2gDukfApr"
      },
      "source": [
        " - Qual é o população da região sul?"
      ]
    },
    {
      "cell_type": "code",
      "metadata": {
        "id": "enEkNjFQfAps",
        "colab": {
          "base_uri": "https://localhost:8080/",
          "height": 81
        },
        "outputId": "26389a7e-d0a7-4200-8f0b-4d7370d54153"
      },
      "source": [
        "# código para responder a pergunta\n",
        "\n",
        "brasil_df[['regiao','pop_est_2009']].query('regiao == \"SUL\"').groupby('regiao').agg('sum').T"
      ],
      "execution_count": 17,
      "outputs": [
        {
          "output_type": "execute_result",
          "data": {
            "text/plain": [
              "regiao             SUL\n",
              "pop_est_2009  27719118"
            ],
            "text/html": [
              "\n",
              "  <div id=\"df-ba71788d-66b5-4196-9638-9346eae0e6aa\">\n",
              "    <div class=\"colab-df-container\">\n",
              "      <div>\n",
              "<style scoped>\n",
              "    .dataframe tbody tr th:only-of-type {\n",
              "        vertical-align: middle;\n",
              "    }\n",
              "\n",
              "    .dataframe tbody tr th {\n",
              "        vertical-align: top;\n",
              "    }\n",
              "\n",
              "    .dataframe thead th {\n",
              "        text-align: right;\n",
              "    }\n",
              "</style>\n",
              "<table border=\"1\" class=\"dataframe\">\n",
              "  <thead>\n",
              "    <tr style=\"text-align: right;\">\n",
              "      <th>regiao</th>\n",
              "      <th>SUL</th>\n",
              "    </tr>\n",
              "  </thead>\n",
              "  <tbody>\n",
              "    <tr>\n",
              "      <th>pop_est_2009</th>\n",
              "      <td>27719118</td>\n",
              "    </tr>\n",
              "  </tbody>\n",
              "</table>\n",
              "</div>\n",
              "      <button class=\"colab-df-convert\" onclick=\"convertToInteractive('df-ba71788d-66b5-4196-9638-9346eae0e6aa')\"\n",
              "              title=\"Convert this dataframe to an interactive table.\"\n",
              "              style=\"display:none;\">\n",
              "        \n",
              "  <svg xmlns=\"http://www.w3.org/2000/svg\" height=\"24px\"viewBox=\"0 0 24 24\"\n",
              "       width=\"24px\">\n",
              "    <path d=\"M0 0h24v24H0V0z\" fill=\"none\"/>\n",
              "    <path d=\"M18.56 5.44l.94 2.06.94-2.06 2.06-.94-2.06-.94-.94-2.06-.94 2.06-2.06.94zm-11 1L8.5 8.5l.94-2.06 2.06-.94-2.06-.94L8.5 2.5l-.94 2.06-2.06.94zm10 10l.94 2.06.94-2.06 2.06-.94-2.06-.94-.94-2.06-.94 2.06-2.06.94z\"/><path d=\"M17.41 7.96l-1.37-1.37c-.4-.4-.92-.59-1.43-.59-.52 0-1.04.2-1.43.59L10.3 9.45l-7.72 7.72c-.78.78-.78 2.05 0 2.83L4 21.41c.39.39.9.59 1.41.59.51 0 1.02-.2 1.41-.59l7.78-7.78 2.81-2.81c.8-.78.8-2.07 0-2.86zM5.41 20L4 18.59l7.72-7.72 1.47 1.35L5.41 20z\"/>\n",
              "  </svg>\n",
              "      </button>\n",
              "      \n",
              "  <style>\n",
              "    .colab-df-container {\n",
              "      display:flex;\n",
              "      flex-wrap:wrap;\n",
              "      gap: 12px;\n",
              "    }\n",
              "\n",
              "    .colab-df-convert {\n",
              "      background-color: #E8F0FE;\n",
              "      border: none;\n",
              "      border-radius: 50%;\n",
              "      cursor: pointer;\n",
              "      display: none;\n",
              "      fill: #1967D2;\n",
              "      height: 32px;\n",
              "      padding: 0 0 0 0;\n",
              "      width: 32px;\n",
              "    }\n",
              "\n",
              "    .colab-df-convert:hover {\n",
              "      background-color: #E2EBFA;\n",
              "      box-shadow: 0px 1px 2px rgba(60, 64, 67, 0.3), 0px 1px 3px 1px rgba(60, 64, 67, 0.15);\n",
              "      fill: #174EA6;\n",
              "    }\n",
              "\n",
              "    [theme=dark] .colab-df-convert {\n",
              "      background-color: #3B4455;\n",
              "      fill: #D2E3FC;\n",
              "    }\n",
              "\n",
              "    [theme=dark] .colab-df-convert:hover {\n",
              "      background-color: #434B5C;\n",
              "      box-shadow: 0px 1px 3px 1px rgba(0, 0, 0, 0.15);\n",
              "      filter: drop-shadow(0px 1px 2px rgba(0, 0, 0, 0.3));\n",
              "      fill: #FFFFFF;\n",
              "    }\n",
              "  </style>\n",
              "\n",
              "      <script>\n",
              "        const buttonEl =\n",
              "          document.querySelector('#df-ba71788d-66b5-4196-9638-9346eae0e6aa button.colab-df-convert');\n",
              "        buttonEl.style.display =\n",
              "          google.colab.kernel.accessAllowed ? 'block' : 'none';\n",
              "\n",
              "        async function convertToInteractive(key) {\n",
              "          const element = document.querySelector('#df-ba71788d-66b5-4196-9638-9346eae0e6aa');\n",
              "          const dataTable =\n",
              "            await google.colab.kernel.invokeFunction('convertToInteractive',\n",
              "                                                     [key], {});\n",
              "          if (!dataTable) return;\n",
              "\n",
              "          const docLinkHtml = 'Like what you see? Visit the ' +\n",
              "            '<a target=\"_blank\" href=https://colab.research.google.com/notebooks/data_table.ipynb>data table notebook</a>'\n",
              "            + ' to learn more about interactive tables.';\n",
              "          element.innerHTML = '';\n",
              "          dataTable['output_type'] = 'display_data';\n",
              "          await google.colab.output.renderOutput(dataTable, element);\n",
              "          const docLink = document.createElement('div');\n",
              "          docLink.innerHTML = docLinkHtml;\n",
              "          element.appendChild(docLink);\n",
              "        }\n",
              "      </script>\n",
              "    </div>\n",
              "  </div>\n",
              "  "
            ]
          },
          "metadata": {},
          "execution_count": 17
        }
      ]
    },
    {
      "cell_type": "markdown",
      "metadata": {
        "id": "9qOaKRS9fFu8"
      },
      "source": [
        " - Qual é o PIB per capito médio das cidades do Mato Grosso do Sul?"
      ]
    },
    {
      "cell_type": "code",
      "metadata": {
        "id": "gX8DVSfFfFu9",
        "colab": {
          "base_uri": "https://localhost:8080/",
          "height": 81
        },
        "outputId": "196097e0-e8f4-428c-f654-6b0b83d52bc7"
      },
      "source": [
        "# código para responder a pergunta\n",
        "\n",
        "brasil_df[['estado','pib_percapita']].query('estado == \"MATO GROSSO DO SUL\"').groupby('estado').agg('mean').T"
      ],
      "execution_count": 18,
      "outputs": [
        {
          "output_type": "execute_result",
          "data": {
            "text/plain": [
              "estado         MATO GROSSO DO SUL\n",
              "pib_percapita         14458.89686"
            ],
            "text/html": [
              "\n",
              "  <div id=\"df-f571a3fc-5694-495c-9083-fa7092ec5a02\">\n",
              "    <div class=\"colab-df-container\">\n",
              "      <div>\n",
              "<style scoped>\n",
              "    .dataframe tbody tr th:only-of-type {\n",
              "        vertical-align: middle;\n",
              "    }\n",
              "\n",
              "    .dataframe tbody tr th {\n",
              "        vertical-align: top;\n",
              "    }\n",
              "\n",
              "    .dataframe thead th {\n",
              "        text-align: right;\n",
              "    }\n",
              "</style>\n",
              "<table border=\"1\" class=\"dataframe\">\n",
              "  <thead>\n",
              "    <tr style=\"text-align: right;\">\n",
              "      <th>estado</th>\n",
              "      <th>MATO GROSSO DO SUL</th>\n",
              "    </tr>\n",
              "  </thead>\n",
              "  <tbody>\n",
              "    <tr>\n",
              "      <th>pib_percapita</th>\n",
              "      <td>14458.89686</td>\n",
              "    </tr>\n",
              "  </tbody>\n",
              "</table>\n",
              "</div>\n",
              "      <button class=\"colab-df-convert\" onclick=\"convertToInteractive('df-f571a3fc-5694-495c-9083-fa7092ec5a02')\"\n",
              "              title=\"Convert this dataframe to an interactive table.\"\n",
              "              style=\"display:none;\">\n",
              "        \n",
              "  <svg xmlns=\"http://www.w3.org/2000/svg\" height=\"24px\"viewBox=\"0 0 24 24\"\n",
              "       width=\"24px\">\n",
              "    <path d=\"M0 0h24v24H0V0z\" fill=\"none\"/>\n",
              "    <path d=\"M18.56 5.44l.94 2.06.94-2.06 2.06-.94-2.06-.94-.94-2.06-.94 2.06-2.06.94zm-11 1L8.5 8.5l.94-2.06 2.06-.94-2.06-.94L8.5 2.5l-.94 2.06-2.06.94zm10 10l.94 2.06.94-2.06 2.06-.94-2.06-.94-.94-2.06-.94 2.06-2.06.94z\"/><path d=\"M17.41 7.96l-1.37-1.37c-.4-.4-.92-.59-1.43-.59-.52 0-1.04.2-1.43.59L10.3 9.45l-7.72 7.72c-.78.78-.78 2.05 0 2.83L4 21.41c.39.39.9.59 1.41.59.51 0 1.02-.2 1.41-.59l7.78-7.78 2.81-2.81c.8-.78.8-2.07 0-2.86zM5.41 20L4 18.59l7.72-7.72 1.47 1.35L5.41 20z\"/>\n",
              "  </svg>\n",
              "      </button>\n",
              "      \n",
              "  <style>\n",
              "    .colab-df-container {\n",
              "      display:flex;\n",
              "      flex-wrap:wrap;\n",
              "      gap: 12px;\n",
              "    }\n",
              "\n",
              "    .colab-df-convert {\n",
              "      background-color: #E8F0FE;\n",
              "      border: none;\n",
              "      border-radius: 50%;\n",
              "      cursor: pointer;\n",
              "      display: none;\n",
              "      fill: #1967D2;\n",
              "      height: 32px;\n",
              "      padding: 0 0 0 0;\n",
              "      width: 32px;\n",
              "    }\n",
              "\n",
              "    .colab-df-convert:hover {\n",
              "      background-color: #E2EBFA;\n",
              "      box-shadow: 0px 1px 2px rgba(60, 64, 67, 0.3), 0px 1px 3px 1px rgba(60, 64, 67, 0.15);\n",
              "      fill: #174EA6;\n",
              "    }\n",
              "\n",
              "    [theme=dark] .colab-df-convert {\n",
              "      background-color: #3B4455;\n",
              "      fill: #D2E3FC;\n",
              "    }\n",
              "\n",
              "    [theme=dark] .colab-df-convert:hover {\n",
              "      background-color: #434B5C;\n",
              "      box-shadow: 0px 1px 3px 1px rgba(0, 0, 0, 0.15);\n",
              "      filter: drop-shadow(0px 1px 2px rgba(0, 0, 0, 0.3));\n",
              "      fill: #FFFFFF;\n",
              "    }\n",
              "  </style>\n",
              "\n",
              "      <script>\n",
              "        const buttonEl =\n",
              "          document.querySelector('#df-f571a3fc-5694-495c-9083-fa7092ec5a02 button.colab-df-convert');\n",
              "        buttonEl.style.display =\n",
              "          google.colab.kernel.accessAllowed ? 'block' : 'none';\n",
              "\n",
              "        async function convertToInteractive(key) {\n",
              "          const element = document.querySelector('#df-f571a3fc-5694-495c-9083-fa7092ec5a02');\n",
              "          const dataTable =\n",
              "            await google.colab.kernel.invokeFunction('convertToInteractive',\n",
              "                                                     [key], {});\n",
              "          if (!dataTable) return;\n",
              "\n",
              "          const docLinkHtml = 'Like what you see? Visit the ' +\n",
              "            '<a target=\"_blank\" href=https://colab.research.google.com/notebooks/data_table.ipynb>data table notebook</a>'\n",
              "            + ' to learn more about interactive tables.';\n",
              "          element.innerHTML = '';\n",
              "          dataTable['output_type'] = 'display_data';\n",
              "          await google.colab.output.renderOutput(dataTable, element);\n",
              "          const docLink = document.createElement('div');\n",
              "          docLink.innerHTML = docLinkHtml;\n",
              "          element.appendChild(docLink);\n",
              "        }\n",
              "      </script>\n",
              "    </div>\n",
              "  </div>\n",
              "  "
            ]
          },
          "metadata": {},
          "execution_count": 18
        }
      ]
    },
    {
      "cell_type": "markdown",
      "metadata": {
        "id": "lvf-VqaffS2D"
      },
      "source": [
        " - Qual é a população do Brasil?"
      ]
    },
    {
      "cell_type": "code",
      "metadata": {
        "id": "_nBsY6EcfS2E",
        "colab": {
          "base_uri": "https://localhost:8080/"
        },
        "outputId": "ba902209-2f14-4803-d328-2a166e3dc566"
      },
      "source": [
        "# código para responder a pergunta\n",
        "\n",
        "brasil_df['pop_est_2009'].agg('sum')"
      ],
      "execution_count": 19,
      "outputs": [
        {
          "output_type": "execute_result",
          "data": {
            "text/plain": [
              "191055055"
            ]
          },
          "metadata": {},
          "execution_count": 19
        }
      ]
    },
    {
      "cell_type": "markdown",
      "metadata": {
        "id": "hnTSARXpipkP"
      },
      "source": [
        "### **2.3. Visualização** "
      ]
    },
    {
      "cell_type": "markdown",
      "metadata": {
        "id": "7coMkY8xixFO"
      },
      "source": [
        "Utilize o dataframe `brasil_df` para gerar as seguintes visualizações."
      ]
    },
    {
      "cell_type": "markdown",
      "metadata": {
        "id": "SgvPvh4Vjctx"
      },
      "source": [
        " - Gere um gráfico de barras com as 10 cidades menos populosas do Brasil."
      ]
    },
    {
      "cell_type": "code",
      "metadata": {
        "id": "V8eM0uEUjcty",
        "colab": {
          "base_uri": "https://localhost:8080/",
          "height": 501
        },
        "outputId": "968ee9ea-0047-4038-d644-396ee87ed3d6"
      },
      "source": [
        "\n",
        "# código para gerar a visualização\n",
        "\n",
        "import numpy as np\n",
        "import matplotlib.pyplot as plt\n",
        "\n",
        "dez_menos = brasil_df[['cidade', 'pop_est_2009']].sort_values(by=['pop_est_2009'], ascending=True).head(10).reset_index(drop=True)\n",
        "\n",
        "\n",
        "dez_menos.plot.bar(x='cidade', y='pop_est_2009', rot=75, figsize=(15, 6), color=\"#00CED1\", title=\"10 CIDADES MENOS POPULOSAS DO BRASIL\")"
      ],
      "execution_count": 47,
      "outputs": [
        {
          "output_type": "execute_result",
          "data": {
            "text/plain": [
              "<matplotlib.axes._subplots.AxesSubplot at 0x7fa40ad77c10>"
            ]
          },
          "metadata": {},
          "execution_count": 47
        },
        {
          "output_type": "display_data",
          "data": {
            "text/plain": [
              "<Figure size 1080x432 with 1 Axes>"
            ],
            "image/png": "[encoded data removed]"
          },
          "metadata": {
            "needs_background": "light"
          }
        }
      ]
    },
    {
      "cell_type": "markdown",
      "metadata": {
        "id": "gsa3SrTjjrGV"
      },
      "source": [
        " - Gere um gráfico de pizza com a proporção da população do Brasil por região."
      ]
    },
    {
      "cell_type": "code",
      "metadata": {
        "id": "1dvqIAEHjrGV",
        "colab": {
          "base_uri": "https://localhost:8080/",
          "height": 592
        },
        "outputId": "37aea643-5cb1-4691-9d80-4cefaf566218"
      },
      "source": [
        "# código para gerar a visualização\n",
        "\n",
        "pop_brasil = brasil_df[['regiao', 'pop_est_2009']].groupby('regiao').agg('sum')\n",
        "\n",
        "pop_brasil.plot.pie(y='pop_est_2009', figsize=(15, 10))"
      ],
      "execution_count": 51,
      "outputs": [
        {
          "output_type": "execute_result",
          "data": {
            "text/plain": [
              "<matplotlib.axes._subplots.AxesSubplot at 0x7fa4079007d0>"
            ]
          },
          "metadata": {},
          "execution_count": 51
        },
        {
          "output_type": "display_data",
          "data": {
            "text/plain": [
              "<Figure size 1080x720 with 1 Axes>"
            ],
            "image/png": "[encoded data removed]"
          },
          "metadata": {}
        }
      ]
    }
  ]
}