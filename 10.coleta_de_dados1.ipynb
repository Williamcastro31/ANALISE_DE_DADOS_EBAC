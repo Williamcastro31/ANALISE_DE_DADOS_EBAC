{
  "nbformat": 4,
  "nbformat_minor": 0,
  "metadata": {
    "colab": {
      "name": "module_10_exercise.ipynb",
      "provenance": [],
      "collapsed_sections": []
    },
    "kernelspec": {
      "name": "python3",
      "display_name": "Python 3"
    }
  },
  "cells": [
    {
      "cell_type": "markdown",
      "metadata": {
        "id": "KJqp9AANOCtf"
      },
      "source": [
        "<img src=\"https://raw.githubusercontent.com/andre-marcos-perez/ebac-course-utils/main/media/logo/newebac_logo_black_half.png\" alt=\"ebac-logo\">\n",
        "\n",
        "---\n",
        "\n",
        "# **Módulo** | Análise de Dados: Coleta de Dados I\n",
        "Caderno de **Exercícios**<br> \n",
        "Professor [André Perez](https://www.linkedin.com/in/andremarcosperez/)\n",
        "\n",
        "---"
      ]
    },
    {
      "cell_type": "markdown",
      "metadata": {
        "id": "d9jDtUbDOE1-"
      },
      "source": [
        "# **Tópicos**\n",
        "\n",
        "<ol type=\"1\">\n",
        "  <li>Arquivos CSV;</li>\n",
        "  <li>Arquivos Texto;</li>\n",
        "  <li>Arquivos Excel.</li>\n",
        "</ol>"
      ]
    },
    {
      "cell_type": "markdown",
      "metadata": {
        "id": "SmoHgt-lwkpD"
      },
      "source": [
        "---"
      ]
    },
    {
      "cell_type": "markdown",
      "metadata": {
        "id": "GABI6OW8OfQ2"
      },
      "source": [
        "# **Exercícios**"
      ]
    },
    {
      "cell_type": "markdown",
      "metadata": {
        "id": "muD1vxozykSC"
      },
      "source": [
        "## 0\\. Preparando o ambiente"
      ]
    },
    {
      "cell_type": "markdown",
      "metadata": {
        "id": "ByX7SUjNKk2K"
      },
      "source": [
        "Vamos explorar dados de crédito presentes no arquivo `credito.xlsx` ([link](https://raw.githubusercontent.com/andre-marcos-perez/ebac-course-utils/develop/dataset/credito.xlsx)). Os dados estão no formato de **Excel** (XLSX) e contém informações sobre clientes de uma instituição financeira. Em especial, estamos interessados em explicar a segunda coluna, chamada de **default**, que indica se um cliente é adimplente (`default = 0`), ou inadimplente (`default = 1`), ou seja, queremos entender o porque um cliente deixa de honrar com suas dívidas baseado no comportamento de outros atributos, como salário, escolaridade e movimentação financeira. Uma descrição completa dos atributos está abaixo."
      ]
    },
    {
      "cell_type": "markdown",
      "metadata": {
        "id": "Z5Fd0NSVLnwE"
      },
      "source": [
        "\n",
        "\n",
        "| Coluna  | Descrição |\n",
        "| ------- | --------- |\n",
        "| id      | Número da conta |\n",
        "| default | Indica se o cliente é adimplente (0) ou inadimplente (1) |\n",
        "| idade   | --- |\n",
        "| sexo    | --- |\n",
        "| depedentes | --- |\n",
        "| escolaridade | --- |\n",
        "| estado_civil | --- |\n",
        "| salario_anual | Faixa do salario mensal multiplicado por 12 |\n",
        "| tipo_cartao | Categoria do cartao: blue, silver, gold e platinium |\n",
        "| meses_de_relacionamento | Quantidade de meses desde a abertura da conta |\n",
        "| qtd_produtos | Quantidade de produtos contratados |\n",
        "| iteracoes_12m | Quantidade de iteracoes com o cliente no último ano |\n",
        "| meses_inatico_12m | Quantidade de meses que o cliente ficou inativo no último ano |\n",
        "| limite_credito | Valor do limite do cartão de crédito |\n",
        "| valor_transacoes_12m | Soma total do valor das transações no cartão de crédito no último ano |\n",
        "| qtd_transacoes_12m | Quantidade total de transações no cartão de crédito no último ano |\n",
        "\n"
      ]
    },
    {
      "cell_type": "markdown",
      "metadata": {
        "id": "peEbZE2vcMaH"
      },
      "source": [
        "Faça o download do arquivo `credito.xlsx` com a célula de código abaixo."
      ]
    },
    {
      "cell_type": "code",
      "metadata": {
        "id": "hyG8xFuWc16L",
        "colab": {
          "base_uri": "https://localhost:8080/"
        },
        "outputId": "a870f091-c0a1-4f4e-c17e-fcaca185f92e"
      },
      "source": [
        "!wget --show-progress --continue -O ./credito.xlsx https://raw.githubusercontent.com/andre-marcos-perez/ebac-course-utils/main/dataset/credito.xlsx"
      ],
      "execution_count": 9,
      "outputs": [
        {
          "output_type": "stream",
          "name": "stdout",
          "text": [
            "--2022-08-08 18:51:06--  https://raw.githubusercontent.com/andre-marcos-perez/ebac-course-utils/main/dataset/credito.xlsx\n",
            "Resolving raw.githubusercontent.com (raw.githubusercontent.com)... 185.199.111.133, 185.199.109.133, 185.199.110.133, ...\n",
            "Connecting to raw.githubusercontent.com (raw.githubusercontent.com)|185.199.111.133|:443... connected.\n",
            "HTTP request sent, awaiting response... 416 Range Not Satisfiable\n",
            "\n",
            "    The file is already fully retrieved; nothing to do.\n",
            "\n"
          ]
        }
      ]
    },
    {
      "cell_type": "markdown",
      "metadata": {
        "id": "zMN1Q3jdwoJm"
      },
      "source": [
        "---"
      ]
    },
    {
      "cell_type": "markdown",
      "metadata": {
        "id": "GWgNoJN8DHyY"
      },
      "source": [
        "## 1\\. Excel para CSV"
      ]
    },
    {
      "cell_type": "markdown",
      "metadata": {
        "id": "YynK1vf2DHyj"
      },
      "source": [
        "Utilizando o pacote Python `openpyxl` visto em aula, extraia os seguintes as colunas `id`, `sexo` e `idade` para dos clientes inadimplentes (`default = 1`) e solteiros (`estado_civil = 'solteiro'`). Salves os dados extraídos no arquivo csv `credito.csv` separado por `;`. Exemplo do cabeçalho e das três primeiras linhas:\n",
        "\n",
        "```\n",
        "id;sexo;idade\n",
        "767712558;59;M\n",
        "713741358;46;M\n",
        "772390908;59;M\n",
        "```\n",
        "\n",
        "**Dica:** O arquivo csv `credito.csv` deve ter 669 linhas, contando com o cabeçalho.\n",
        "\n",
        "**Nota:** Escreva o código da sua solução abaixo em uma ou mais células, você não precisa enviar o arquivo csv gerado."
      ]
    },
    {
      "cell_type": "code",
      "metadata": {
        "id": "hVK8QyFvE-wk"
      },
      "source": [
        "# solução do exercício 1"
      ],
      "execution_count": null,
      "outputs": []
    },
    {
      "cell_type": "code",
      "source": [
        "!pip install openpyxl"
      ],
      "metadata": {
        "colab": {
          "base_uri": "https://localhost:8080/"
        },
        "id": "2IwaT4Cm70Ro",
        "outputId": "3d259486-446a-488d-dc43-43a7dc9c792e"
      },
      "execution_count": null,
      "outputs": [
        {
          "output_type": "stream",
          "name": "stdout",
          "text": [
            "Looking in indexes: https://pypi.org/simple, https://us-python.pkg.dev/colab-wheels/public/simple/\n",
            "Requirement already satisfied: openpyxl in /usr/local/lib/python3.7/dist-packages (3.0.10)\n",
            "Requirement already satisfied: et-xmlfile in /usr/local/lib/python3.7/dist-packages (from openpyxl) (1.1.0)\n"
          ]
        }
      ]
    },
    {
      "cell_type": "code",
      "source": [
        "import csv\n",
        "from openpyxl import load_workbook\n",
        "from openpyxl import worksheet\n",
        "\n",
        "planilhas = load_workbook(filename='credito.xlsx')\n",
        "planilha = planilhas.active\n",
        "\n",
        "cabecalho = next(planilha.values)\n",
        "col_sel = ['id', 'sexo','idade']\n",
        "fltr = ['default', 'estado_civil']\n",
        "\n",
        "\n",
        "dados = list([linha[cabecalho.index(col_sel[0])],\n",
        "              linha[cabecalho.index(col_sel[1])],\n",
        "              linha[cabecalho.index(col_sel[2])]] \n",
        "             for linha in planilha.values if linha[cabecalho.index(fltr[0])] == 1 and linha[cabecalho.index(fltr[1])] == 'solteiro')\n",
        "\n",
        "dados.insert(0, col_sel)\n",
        "print(dados)\n",
        "\n",
        "with open(file='./credito.csv', mode='w', encoding='utf8') as arquivo:\n",
        "  escritor_csv = csv.writer(arquivo, delimiter=';')\n",
        "  escritor_csv.writerows(list(map(lambda x: x, dados)))\n"
      ],
      "metadata": {
        "id": "M7utJBGDXf33",
        "colab": {
          "base_uri": "https://localhost:8080/"
        },
        "outputId": "21690ba6-5b8a-4679-9b9f-d7eec923f2b4"
      },
      "execution_count": null,
      "outputs": [
        {
          "output_type": "stream",
          "name": "stdout",
          "text": [
            "[['id', 'sexo', 'idade'], [767712558, 'M', 59], [713741358, 'M', 46], [772390908, 'M', 59], [719211558, 'M', 45], [709547658, 'M', 39], [711791583, 'F', 52], [712315683, 'F', 53], [714272658, 'F', 43], [767294658, 'M', 56], [708241233, 'F', 52], [716223708, 'F', 45], [719443683, 'M', 50], [711242058, 'M', 48], [720605808, 'F', 53], [719309958, 'M', 55], [808897683, 'M', 53], [716991933, 'F', 53], [712373208, 'M', 43], [708455883, 'M', 57], [711147483, 'F', 46], [720426708, 'M', 56], [708983658, 'M', 51], [721249158, 'M', 42], [713845083, 'F', 41], [712240083, 'F', 38], [720007383, 'F', 41], [739594758, 'F', 51], [712924383, 'M', 55], [714983283, 'F', 39], [809951133, 'M', 54], [720141408, 'F', 49], [712196508, 'F', 46], [713206683, 'M', 40], [778388358, 'M', 56], [709707033, 'M', 45], [711772008, 'F', 35], [821179233, 'F', 50], [813752433, 'F', 43], [708083283, 'M', 58], [806407308, 'F', 54], [758583708, 'F', 37], [778708533, 'F', 26], [713259858, 'M', 26], [790145733, 'M', 40], [804668658, 'F', 26], [819610908, 'M', 38], [808273533, 'M', 39], [716382708, 'F', 46], [711357858, 'F', 47], [711816108, 'M', 40], [789777408, 'F', 26], [720427683, 'M', 58], [717930483, 'M', 37], [715651833, 'M', 65], [715517733, 'F', 46], [713021208, 'F', 55], [713104458, 'M', 46], [715366083, 'F', 52], [787463508, 'M', 26], [778381608, 'M', 48], [710586483, 'F', 26], [709785783, 'F', 35], [717813558, 'F', 57], [719470458, 'M', 46], [789963033, 'F', 54], [709413933, 'M', 56], [709206333, 'F', 44], [821149008, 'M', 52], [772273983, 'M', 48], [709163358, 'M', 41], [827476983, 'F', 56], [708563433, 'F', 65], [738627708, 'F', 49], [828291858, 'M', 38], [720725058, 'F', 51], [711935283, 'M', 55], [720508233, 'M', 62], [716387733, 'M', 49], [720758808, 'M', 38], [813053733, 'M', 53], [720529308, 'M', 63], [710278458, 'M', 52], [807593058, 'F', 41], [788030208, 'F', 42], [720983733, 'M', 44], [710654808, 'M', 46], [709224033, 'M', 53], [817889583, 'F', 61], [716306583, 'M', 64], [721233033, 'M', 50], [779502333, 'M', 50], [709297608, 'M', 38], [817977933, 'F', 63], [711538758, 'M', 39], [719987733, 'F', 51], [789713208, 'F', 62], [772137183, 'M', 52], [821768658, 'M', 52], [812449758, 'M', 43], [815085708, 'F', 60], [718197108, 'M', 54], [708733983, 'F', 50], [711205758, 'M', 45], [716425833, 'M', 38], [815851233, 'M', 52], [718877883, 'F', 44], [822955008, 'M', 63], [827117808, 'M', 45], [709321908, 'M', 47], [772466508, 'M', 45], [737921733, 'F', 62], [709435533, 'F', 53], [719168883, 'F', 45], [714212358, 'F', 38], [721104708, 'F', 41], [717461283, 'F', 38], [803028858, 'F', 38], [712751133, 'M', 42], [719770158, 'F', 54], [716271183, 'F', 45], [816261858, 'M', 61], [721308033, 'F', 45], [711012783, 'M', 43], [712235433, 'F', 43], [714377058, 'F', 63], [718735908, 'M', 47], [804833058, 'M', 49], [709560258, 'F', 49], [720362058, 'M', 57], [719602908, 'F', 42], [709713033, 'M', 55], [708633783, 'M', 43], [781306758, 'M', 58], [712294083, 'F', 54], [718220358, 'M', 58], [712656783, 'M', 49], [738899658, 'F', 45], [714727833, 'F', 41], [720598308, 'M', 47], [717592758, 'F', 44], [708687483, 'F', 54], [721451208, 'M', 54], [718342158, 'F', 38], [716654808, 'M', 48], [716564433, 'F', 53], [716022258, 'F', 51], [811527933, 'F', 65], [714972558, 'F', 37], [709709283, 'M', 38], [780105483, 'F', 65], [715294083, 'M', 46], [772695033, 'M', 47], [780006783, 'M', 59], [771342183, 'F', 53], [712901283, 'F', 53], [718473558, 'F', 42], [717368208, 'M', 49], [772341783, 'F', 45], [715409733, 'F', 47], [709338633, 'F', 56], [711245433, 'F', 50], [708801108, 'F', 57], [789382758, 'M', 54], [721437333, 'M', 46], [711626658, 'F', 62], [717793983, 'M', 55], [714119283, 'F', 42], [799239033, 'F', 53], [794707083, 'M', 50], [787921383, 'M', 53], [715405758, 'F', 50], [718515483, 'M', 64], [715664808, 'M', 43], [716317458, 'F', 51], [717035283, 'M', 46], [803113383, 'F', 55], [713788083, 'F', 28], [780067158, 'F', 51], [809599158, 'M', 48], [709798908, 'F', 45], [821749608, 'M', 41], [709444983, 'F', 38], [709563258, 'F', 50], [712257258, 'F', 50], [710812533, 'F', 46], [715987758, 'M', 49], [717103758, 'M', 63], [721365033, 'M', 37], [712267983, 'F', 57], [802243458, 'M', 48], [720784833, 'F', 48], [721448283, 'F', 39], [718766058, 'M', 56], [708798483, 'F', 37], [803800533, 'M', 39], [709488108, 'M', 42], [819647358, 'M', 38], [789502308, 'F', 57], [712038258, 'M', 48], [712864683, 'F', 42], [755467683, 'F', 48], [714479358, 'M', 51], [712807758, 'F', 47], [824140908, 'M', 52], [720444408, 'F', 35], [709170108, 'F', 60], [716056158, 'M', 63], [715406658, 'F', 47], [716625033, 'F', 32], [716782758, 'M', 48], [708797583, 'F', 49], [711100608, 'M', 55], [768624258, 'F', 55], [719174433, 'F', 36], [714346608, 'F', 51], [823904133, 'F', 53], [711646908, 'M', 39], [770024733, 'F', 53], [708702258, 'F', 40], [720519333, 'F', 59], [719564208, 'F', 46], [798041508, 'F', 50], [780201633, 'F', 41], [712777233, 'M', 65], [712706058, 'F', 44], [717448383, 'M', 41], [709161108, 'M', 44], [714089658, 'M', 41], [714915633, 'M', 42], [794273283, 'M', 51], [788838033, 'M', 45], [714084483, 'F', 49], [771795933, 'M', 49], [804829533, 'M', 59], [812411058, 'F', 49], [715609533, 'F', 47], [779130108, 'F', 33], [716922633, 'M', 38], [780496833, 'F', 56], [789081408, 'F', 44], [823615983, 'M', 54], [713370033, 'F', 53], [719751483, 'F', 39], [780038058, 'F', 38], [712563408, 'M', 33], [778601733, 'F', 55], [720044658, 'M', 53], [716668308, 'F', 39], [714058308, 'F', 43], [713114133, 'F', 42], [709495833, 'F', 44], [708681708, 'F', 51], [711468708, 'F', 38], [821724483, 'M', 48], [709112508, 'F', 42], [719325783, 'M', 65], [713980383, 'F', 49], [715194183, 'F', 53], [780292683, 'M', 55], [711116133, 'F', 50], [713096583, 'F', 40], [756025233, 'F', 43], [711977508, 'F', 56], [710666583, 'F', 29], [717336408, 'F', 51], [821889858, 'F', 50], [710661333, 'F', 55], [710570058, 'F', 44], [802247658, 'M', 59], [713590158, 'M', 41], [718508883, 'F', 43], [716107158, 'F', 32], [720234708, 'M', 45], [716136333, 'F', 40], [708154833, 'F', 39], [788941983, 'F', 36], [787974108, 'F', 37], [710729358, 'F', 40], [717477783, 'F', 49], [789942033, 'M', 43], [717949008, 'F', 40], [713334483, 'M', 46], [713025558, 'F', 53], [809565183, 'F', 52], [711151383, 'F', 34], [718812708, 'M', 57], [709505808, 'F', 45], [714634983, 'F', 44], [709005633, 'M', 62], [713952558, 'F', 53], [817332483, 'M', 63], [720930633, 'F', 58], [710136258, 'F', 33], [713526258, 'M', 47], [708692583, 'F', 44], [713815383, 'M', 53], [717450633, 'M', 47], [717646983, 'F', 59], [768632958, 'F', 59], [712110333, 'F', 37], [712479633, 'F', 31], [713314533, 'M', 40], [755996583, 'F', 57], [769053033, 'F', 44], [714581358, 'F', 48], [772394883, 'F', 60], [709729533, 'M', 47], [714102183, 'M', 50], [715410783, 'F', 55], [755661933, 'F', 48], [716669658, 'F', 51], [802673508, 'M', 57], [721032633, 'F', 55], [714192933, 'F', 55], [718975083, 'F', 47], [710116833, 'F', 59], [815908908, 'F', 47], [712927383, 'F', 51], [708708858, 'F', 50], [771723408, 'F', 37], [713569158, 'F', 43], [714010383, 'F', 47], [708412758, 'F', 33], [713158083, 'M', 56], [720010608, 'M', 37], [711939558, 'F', 37], [716924958, 'F', 65], [819943458, 'M', 57], [772073508, 'F', 52], [711801933, 'F', 54], [816378033, 'M', 46], [717202083, 'M', 46], [711507783, 'F', 54], [716856408, 'F', 39], [719742108, 'F', 38], [717208833, 'F', 34], [713463708, 'F', 40], [812406183, 'F', 45], [720270633, 'F', 40], [718653333, 'F', 45], [711724083, 'F', 27], [713422083, 'F', 30], [794507133, 'F', 37], [767266758, 'F', 41], [713594883, 'F', 44], [714962658, 'M', 35], [717429258, 'F', 48], [713336883, 'F', 61], [714475908, 'M', 43], [714948858, 'F', 50], [714188883, 'F', 46], [708536283, 'M', 35], [718826883, 'M', 50], [815504583, 'F', 48], [713804883, 'F', 46], [721124658, 'M', 40], [720815208, 'M', 52], [798972183, 'F', 49], [789880533, 'F', 46], [711221958, 'F', 43], [712092783, 'F', 47], [708726708, 'F', 42], [712767858, 'F', 42], [712445583, 'F', 33], [713891133, 'F', 41], [712953483, 'F', 64], [779029458, 'F', 54], [720130233, 'M', 48], [718279008, 'M', 44], [814091058, 'F', 38], [710555433, 'F', 42], [779931783, 'M', 52], [712611108, 'F', 59], [708316008, 'F', 59], [711846183, 'F', 38], [720612333, 'F', 44], [711474333, 'F', 57], [714014733, 'M', 33], [712733958, 'F', 46], [714960408, 'F', 44], [717219933, 'F', 47], [719986758, 'F', 46], [806140383, 'M', 59], [751518633, 'M', 48], [818459733, 'M', 41], [810271083, 'F', 47], [753365883, 'F', 44], [809440008, 'F', 39], [718913358, 'M', 36], [769883733, 'M', 46], [711122958, 'F', 41], [709100283, 'F', 36], [709064208, 'F', 43], [717255333, 'M', 40], [719516208, 'M', 54], [766021083, 'F', 55], [719756133, 'M', 34], [717072108, 'F', 50], [721460283, 'F', 49], [772528158, 'F', 55], [771638733, 'M', 49], [814765533, 'F', 44], [712161858, 'F', 55], [708376983, 'F', 58], [779348358, 'F', 52], [817108083, 'M', 55], [713474733, 'M', 51], [719098308, 'F', 56], [712327608, 'F', 54], [809616108, 'F', 38], [767553333, 'M', 45], [713583408, 'F', 51], [815539233, 'M', 54], [720872433, 'F', 39], [715530258, 'F', 46], [708976908, 'M', 40], [708186933, 'M', 33], [713512308, 'F', 50], [711201108, 'F', 37], [714887808, 'F', 43], [709714008, 'F', 50], [712307283, 'M', 54], [779848383, 'F', 37], [717371583, 'F', 56], [715304958, 'F', 42], [789095958, 'M', 50], [714213708, 'F', 35], [713597658, 'F', 36], [713953383, 'M', 50], [716510658, 'F', 50], [714408933, 'M', 44], [710500983, 'M', 43], [717666783, 'F', 56], [720731808, 'F', 52], [715919283, 'F', 39], [712998033, 'M', 37], [716697708, 'F', 61], [779302233, 'F', 40], [720824883, 'F', 48], [710438358, 'F', 42], [713717283, 'F', 40], [713822208, 'M', 42], [718230933, 'M', 45], [711637458, 'F', 44], [718090233, 'F', 56], [711669258, 'F', 50], [778207083, 'M', 53], [712130058, 'F', 44], [778378983, 'F', 54], [712448658, 'F', 52], [720590058, 'F', 51], [719981508, 'M', 37], [720766908, 'F', 40], [719512983, 'F', 47], [720719883, 'F', 54], [793630083, 'M', 39], [712900308, 'F', 44], [720761208, 'M', 59], [788794758, 'M', 46], [711150333, 'F', 40], [713373708, 'F', 54], [712664658, 'F', 35], [711873033, 'F', 35], [712715208, 'M', 52], [778899708, 'F', 56], [771865908, 'F', 48], [715162608, 'F', 48], [797150733, 'M', 44], [717489033, 'F', 27], [713748708, 'F', 46], [717409533, 'F', 36], [711800658, 'F', 42], [720401658, 'F', 53], [720961383, 'F', 47], [711691608, 'F', 46], [708266883, 'F', 34], [711102858, 'F', 48], [711722808, 'F', 51], [714848958, 'F', 47], [719305608, 'F', 57], [720190083, 'F', 56], [719449533, 'F', 49], [713027058, 'F', 46], [719821908, 'F', 38], [712378983, 'M', 54], [717502083, 'M', 41], [709102458, 'M', 47], [807946833, 'F', 44], [717146208, 'F', 59], [712660308, 'F', 44], [712144158, 'F', 53], [824560758, 'F', 35], [708190158, 'F', 38], [772271508, 'F', 46], [711412533, 'F', 40], [778191933, 'M', 45], [718152333, 'F', 41], [785285883, 'F', 49], [715773783, 'F', 44], [712747758, 'F', 50], [750995508, 'M', 41], [709222008, 'M', 41], [721426383, 'F', 36], [708416433, 'F', 41], [779183958, 'F', 45], [767404083, 'M', 52], [796083783, 'F', 55], [778441533, 'F', 45], [708885558, 'F', 56], [719759733, 'F', 59], [822170733, 'F', 45], [772286658, 'M', 63], [720460083, 'F', 45], [717874533, 'M', 46], [712136058, 'F', 54], [714276408, 'F', 52], [711232608, 'F', 47], [721274208, 'F', 41], [802668333, 'M', 49], [789312033, 'F', 48], [713425383, 'F', 59], [708419733, 'M', 47], [716329383, 'F', 46], [715327683, 'F', 45], [718958583, 'M', 44], [712075083, 'M', 50], [811700058, 'M', 41], [720164358, 'F', 53], [711325308, 'M', 46], [720891633, 'F', 53], [769152783, 'F', 60], [779315508, 'M', 43], [789560433, 'M', 49], [771097683, 'M', 43], [780450708, 'M', 58], [720939933, 'F', 46], [716212383, 'M', 38], [757667133, 'M', 54], [714938733, 'M', 48], [716199408, 'F', 52], [790051758, 'M', 50], [807393558, 'M', 51], [711167808, 'M', 40], [793608258, 'F', 54], [713003358, 'M', 40], [711742758, 'F', 43], [711332883, 'M', 62], [719071158, 'F', 54], [719714658, 'M', 61], [716858433, 'F', 43], [710958933, 'M', 43], [720698883, 'M', 51], [714190983, 'F', 51], [742865883, 'F', 46], [798553158, 'F', 62], [711613308, 'M', 58], [718558758, 'M', 34], [813804783, 'F', 41], [718732833, 'F', 56], [820666083, 'M', 41], [712044558, 'F', 51], [713131158, 'M', 58], [709319658, 'F', 48], [710161083, 'F', 62], [715799808, 'M', 52], [718458858, 'M', 41], [715630983, 'F', 31], [712768983, 'M', 51], [717529233, 'F', 40], [711794358, 'M', 61], [716260833, 'F', 56], [719694408, 'F', 30], [716863458, 'M', 44], [766821033, 'M', 61], [714615258, 'M', 32], [710455608, 'M', 40], [713514633, 'M', 59], [716124408, 'M', 32], [800758233, 'M', 30], [709259958, 'F', 53], [770220558, 'M', 57], [709075533, 'M', 41], [714361083, 'F', 40], [709928358, 'M', 40], [712265508, 'M', 32], [715051608, 'M', 34], [712895733, 'M', 40], [719629308, 'F', 55], [754443033, 'M', 50], [720512433, 'M', 56], [710878308, 'F', 50], [712010358, 'M', 49], [711432258, 'M', 55], [708354858, 'M', 51], [719767683, 'M', 46], [713269533, 'M', 42], [789684258, 'M', 57], [769396158, 'M', 55], [716717733, 'F', 55], [715113933, 'M', 54], [715714458, 'M', 48], [769667583, 'M', 34], [715645908, 'M', 59], [778643733, 'F', 48], [710980383, 'M', 53], [709971708, 'F', 51], [720565458, 'M', 43], [715496058, 'F', 41], [718297683, 'F', 59], [719118708, 'F', 49], [826245858, 'M', 50], [711746133, 'M', 50], [708496833, 'M', 60], [710155983, 'M', 52], [713318733, 'M', 32], [712441308, 'F', 41], [711161133, 'F', 36], [717457008, 'M', 43], [712841883, 'M', 50], [719582058, 'M', 41], [780511683, 'M', 47], [753220383, 'M', 29], [720827133, 'F', 43], [716721483, 'M', 59], [710527533, 'M', 45], [709996833, 'M', 31], [714022833, 'F', 42], [711156858, 'F', 48], [708319908, 'M', 37], [714082308, 'M', 39], [714820158, 'M', 29], [713347608, 'F', 54], [718080558, 'F', 41], [713880633, 'M', 53], [710639658, 'M', 29], [718665033, 'M', 44], [771561183, 'F', 42], [712036383, 'M', 49], [708821733, 'F', 43], [710751033, 'F', 31], [710679933, 'M', 59], [717174558, 'F', 57], [714543633, 'F', 45], [713668158, 'F', 31], [709249083, 'M', 40], [710081208, 'M', 52], [710047533, 'M', 51], [712766208, 'M', 45], [715150983, 'F', 44], [714919308, 'F', 32], [709660233, 'M', 52], [712509108, 'F', 46], [711745233, 'F', 30], [712457208, 'M', 58], [714945708, 'M', 33], [718840833, 'M', 49], [709566408, 'F', 40], [789497283, 'M', 50], [714677583, 'F', 50], [720128658, 'M', 49], [770038983, 'M', 37], [714684108, 'M', 31], [779134458, 'F', 33], [710066133, 'M', 30], [713281833, 'M', 37], [716644008, 'M', 55], [713924283, 'M', 61], [716893683, 'F', 55]]\n"
          ]
        }
      ]
    },
    {
      "cell_type": "markdown",
      "metadata": {
        "id": "waxn4B2UDHyl"
      },
      "source": [
        "---"
      ]
    },
    {
      "cell_type": "markdown",
      "metadata": {
        "id": "finLQoyyGVmk"
      },
      "source": [
        "## 2\\. Excel para JSON"
      ]
    },
    {
      "cell_type": "markdown",
      "metadata": {
        "id": "99BrnqR4GVmy"
      },
      "source": [
        "Como preparação para o próximo módulo, vamos trabalhar com o JSON, um formato semi-estruturado, muito utilizado em transmissão de dados da web e equivalente a um **dicionário** Python."
      ]
    },
    {
      "cell_type": "markdown",
      "metadata": {
        "id": "AQqks_tohV8k"
      },
      "source": [
        "Utilizando o pacote Python `openpyxl` visto em aula, extraia os dados das colunas `escolaridade` e `tipo_cartao`, removendo duplicados. Com os dados, construa o dicionário Python `credito` com a seguinte estrutura:\n",
        "\n",
        "```python\n",
        "credito = {\n",
        "  'tipo_cartao': ['silver', 'blue', 'gold', 'platinum'],\n",
        "  'escolaridade': ['doutorado', 'mestrado', 'na', 'sem educacao formal', 'graduacao', 'ensino medio']\n",
        "}\n",
        "```\n",
        "\n",
        "Para finalizar, utilize o código abaixo para converter o dicionário `credito` no formato JSON:\n",
        "\n",
        "```python\n",
        "import json\n",
        "\n",
        "credito_json = json.dumps(credito, indent=4)\n",
        "print(credito_json)\n",
        "```\n",
        "\n",
        "**Dica:** Sua solução deve gerar o dicionário Python `credito` igual ao exemplo mas a ordem dos elementos pode variar tranquilamente.\n",
        "\n",
        "**Dica:** Uma excelente forma de remover elementos duplicados de uma lista é convertê-la para `set` e depois para `list` novamente.\n",
        "\n"
      ]
    },
    {
      "cell_type": "code",
      "source": [
        "# solução do exercício 2\n",
        "\n",
        "cabecalho = next(planilha.values)\n",
        "filtros = ['escolaridade', 'tipo_cartao']\n",
        "credito = {'tipo_cartao':'', \n",
        "           'escolaridade':''}\n",
        "\n",
        "\n",
        "for i in filtros:\n",
        "  dados = set(linha[cabecalho.index(i)] for linha in planilha.values if linha[cabecalho.index(i)] != i)\n",
        "  credito[i] = list(dados)\n",
        "\n"
      ],
      "metadata": {
        "id": "f_dnFSWZ-goC"
      },
      "execution_count": null,
      "outputs": []
    },
    {
      "cell_type": "code",
      "source": [
        "import json\n",
        "\n",
        "credito_json = json.dumps(credito, indent=4)\n",
        "print(credito_json)"
      ],
      "metadata": {
        "colab": {
          "base_uri": "https://localhost:8080/"
        },
        "id": "w2QZQVCoH7ST",
        "outputId": "df28f666-6eff-4aae-9477-2fb089cbb493"
      },
      "execution_count": null,
      "outputs": [
        {
          "output_type": "stream",
          "name": "stdout",
          "text": [
            "{\n",
            "    \"tipo_cartao\": [\n",
            "        \"platinum\",\n",
            "        \"blue\",\n",
            "        \"silver\",\n",
            "        \"gold\"\n",
            "    ],\n",
            "    \"escolaridade\": [\n",
            "        \"sem educacao formal\",\n",
            "        \"ensino medio\",\n",
            "        \"na\",\n",
            "        \"mestrado\",\n",
            "        \"doutorado\",\n",
            "        \"graduacao\"\n",
            "    ]\n",
            "}\n"
          ]
        }
      ]
    },
    {
      "cell_type": "markdown",
      "metadata": {
        "id": "As3enQc2GVm1"
      },
      "source": [
        "---"
      ]
    },
    {
      "cell_type": "markdown",
      "metadata": {
        "id": "SS1PxxfHILHs"
      },
      "source": [
        "## 3\\. BÔNUS: Texto para CSV"
      ]
    },
    {
      "cell_type": "markdown",
      "metadata": {
        "id": "i3f-X7y23onm"
      },
      "source": [
        "No arquivo de texto `ebac.txt` você encontra o texto presente no rodapé da página de cursos da EBAC ([link](https://ebaconline.com.br/)).\n",
        "\n"
      ]
    },
    {
      "cell_type": "markdown",
      "metadata": {
        "id": "nKDF9EBH3onp"
      },
      "source": [
        "**Arquivo TXT:** ebac.txt"
      ]
    },
    {
      "cell_type": "code",
      "metadata": {
        "id": "Pyyj5VNnb16w",
        "colab": {
          "base_uri": "https://localhost:8080/"
        },
        "outputId": "418c96bd-3c71-46b5-c7a8-05394262106b"
      },
      "source": [
        "%%writefile ebac.txt\n",
        "MÍDIAS SOCIAIS\n",
        "Instagram, Facebook, Youtube, LinkedIn \n",
        "\n",
        "CURSOS\n",
        "Software, Design, Marketing, Audiovisual, Programação & Data, Games\n",
        "\n",
        "WEBINARS\n",
        "Próximos, Anteriores\n",
        "\n",
        "SOBRE\n",
        "Sobre nós, Centro de carreiras, Vagas\n",
        "\n",
        "CONTATO\n",
        "WhatsApp +55 (11) 4200-2991\n",
        "Telefone +55 (11) 3030-3200\n",
        "\n",
        "BLOG\n",
        "Design, Audiovisual, Marketing"
      ],
      "execution_count": 139,
      "outputs": [
        {
          "output_type": "stream",
          "name": "stdout",
          "text": [
            "Overwriting ebac.txt\n"
          ]
        }
      ]
    },
    {
      "cell_type": "markdown",
      "metadata": {
        "id": "R4hMJ6D2ILH3"
      },
      "source": [
        "Extraia os números de contato do arquivo texto `ebac.txt` e salve-os no arquivo csv `contato_ebac.csv` com o separador `;` no seguinte formato:\n",
        "\n",
        "```\n",
        "tipo;numero\n",
        "whatsapp;+551142002991\n",
        "telefone;+551130303200\n",
        "```\n",
        "\n",
        "**Nota:** Escreva o código da sua solução abaixo em uma ou mais células, você não precisa enviar o arquivo csv gerado."
      ]
    },
    {
      "cell_type": "code",
      "metadata": {
        "id": "ogZClDvTILH3"
      },
      "source": [
        "# solução do exercício 3 (bônus)"
      ],
      "execution_count": null,
      "outputs": []
    },
    {
      "cell_type": "code",
      "source": [
        "import re\n",
        "import csv\n",
        "\n",
        "name_clns = ['tipo','numero']\n",
        "\n",
        "with open(file='./ebac.txt', mode='r', encoding='utf8') as arquivo:\n",
        "  linhas = arquivo.readlines()\n",
        "  \n",
        "  contatos = list(map(lambda r: [re.sub('[0-9-+() ]', '', r), re.sub('[a-zA-Z-() ]', '', r)], \n",
        "                               list(map(lambda contato: contato.strip(), \n",
        "                                        filter(lambda linha: '+55' in linha, linhas)))))\n",
        "\n",
        "  contatos.insert(0,name_clns ) \n",
        "\n",
        "\n",
        "with open(file='./contato_ebac.csv', mode='w', encoding='utf8') as arquivo:\n",
        "  escritor_csv = csv.writer(arquivo, delimiter=';')\n",
        "  escritor_csv.writerows(list(map(lambda x: x, contatos)))\n",
        "\n",
        " "
      ],
      "metadata": {
        "id": "WrgyNDkVRMtq"
      },
      "execution_count": 146,
      "outputs": []
    },
    {
      "cell_type": "markdown",
      "metadata": {
        "id": "Fx--J2bOILH4"
      },
      "source": [
        "---"
      ]
    }
  ]
}