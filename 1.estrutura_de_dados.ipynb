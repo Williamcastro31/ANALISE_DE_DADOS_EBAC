{
  "nbformat": 4,
  "nbformat_minor": 0,
  "metadata": {
    "colab": {
      "name": "modulo_2_exercicios.ipynb",
      "provenance": [],
      "collapsed_sections": [],
      "toc_visible": true
    },
    "kernelspec": {
      "name": "python3",
      "display_name": "Python 3"
    }
  },
  "cells": [
    {
      "cell_type": "markdown",
      "metadata": {
        "id": "KJqp9AANOCtf"
      },
      "source": [
        "<img src=\"https://raw.githubusercontent.com/andre-marcos-perez/ebac-course-utils/main/media/logo/newebac_logo_black_half.png\" alt=\"ebac-logo\">\n",
        "\n",
        "---\n",
        "\n",
        "# **Módulo 02** | Python: Estruturas de Dados\n",
        "Caderno de **Exercícios**<br> \n",
        "Professor [André Perez](https://www.linkedin.com/in/andremarcosperez/)\n",
        "\n",
        "---"
      ]
    },
    {
      "cell_type": "markdown",
      "metadata": {
        "id": "d9jDtUbDOE1-"
      },
      "source": [
        "# **Tópicos**\n",
        "\n",
        "<ol type=\"1\">\n",
        "  <li>Listas;</li>\n",
        "  <li>Conjuntos;</li>\n",
        "  <li>Dicionários.</li>\n",
        "</ol>"
      ]
    },
    {
      "cell_type": "markdown",
      "metadata": {
        "id": "SmoHgt-lwkpD"
      },
      "source": [
        "---"
      ]
    },
    {
      "cell_type": "markdown",
      "metadata": {
        "id": "GABI6OW8OfQ2"
      },
      "source": [
        "# **Exercícios**"
      ]
    },
    {
      "cell_type": "markdown",
      "metadata": {
        "id": "muD1vxozykSC"
      },
      "source": [
        "## 1\\. Listas"
      ]
    },
    {
      "cell_type": "markdown",
      "metadata": {
        "id": "ahrFfCuBxJKs"
      },
      "source": [
        "Criei uma lista chamada `filmes` com o nome dos 10 primeiros filmes mais bem avaliados no site no [IMDB](https://www.imdb.com/chart/top/). Imprima o resultado."
      ]
    },
    {
      "cell_type": "code",
      "metadata": {
        "id": "OgL6Hv3bzOHI"
      },
      "source": [
        "filmes = ['Um Sonho de Liberdade',\n",
        "       'O Poderoso Chefão',\n",
        "       'O Poderoso Chefão II',\n",
        "       'Batman: O Cavaleiro das Trevas',\n",
        "       '12 Homens e uma Sentença',\n",
        "       'A Lista de Schindler',\n",
        "       'O Senhor dos Anéis: O Retorno do Rei',\n",
        "       'Pulp Fiction: Tempo de Violência',\n",
        "       'Três Homens em Conflito',\n",
        "       'O Senhor dos Anéis: A Sociedade do Anel']\n",
        "\n",
        "     "
      ],
      "execution_count": 10,
      "outputs": []
    },
    {
      "cell_type": "code",
      "metadata": {
        "colab": {
          "base_uri": "https://localhost:8080/"
        },
        "id": "EI-91awMcwmr",
        "outputId": "5507103d-b96e-4b55-98cc-197bb7d5857d"
      },
      "source": [
        "print(filmes)"
      ],
      "execution_count": 11,
      "outputs": [
        {
          "output_type": "stream",
          "text": [
            "['Um Sonho de Liberdade', 'O Poderoso Chefão', 'O Poderoso Chefão II', 'Batman: O Cavaleiro das Trevas', '12 Homens e uma Sentença', 'A Lista de Schindler', 'O Senhor dos Anéis: O Retorno do Rei', 'Pulp Fiction: Tempo de Violência', 'Três Homens em Conflito', 'O Senhor dos Anéis: A Sociedade do Anel']\n"
          ],
          "name": "stdout"
        }
      ]
    },
    {
      "cell_type": "markdown",
      "metadata": {
        "id": "KI9zQRT2xa7m"
      },
      "source": [
        "Simule a movimentação do *ranking*. Utilize os métodos `insert` e `pop` para trocar a posição do primeiro e do segundo filme da lista. Imprima o resultado.\n",
        "\n"
      ]
    },
    {
      "cell_type": "code",
      "metadata": {
        "id": "zX3mA3_GzrXH",
        "colab": {
          "base_uri": "https://localhost:8080/"
        },
        "outputId": "9be791a6-01d5-43ba-8d1f-adaab31e8bcc"
      },
      "source": [
        "filmes.insert(3,\"Clube da Luta\")\n",
        "print(filmes)"
      ],
      "execution_count": 12,
      "outputs": [
        {
          "output_type": "stream",
          "text": [
            "['Um Sonho de Liberdade', 'O Poderoso Chefão', 'O Poderoso Chefão II', 'Clube da Luta', 'Batman: O Cavaleiro das Trevas', '12 Homens e uma Sentença', 'A Lista de Schindler', 'O Senhor dos Anéis: O Retorno do Rei', 'Pulp Fiction: Tempo de Violência', 'Três Homens em Conflito', 'O Senhor dos Anéis: A Sociedade do Anel']\n"
          ],
          "name": "stdout"
        }
      ]
    },
    {
      "cell_type": "code",
      "metadata": {
        "colab": {
          "base_uri": "https://localhost:8080/"
        },
        "id": "83KD9Z39eCuw",
        "outputId": "68f95200-ae59-43d8-9450-211373bcd8e1"
      },
      "source": [
        "filmes.pop(9)\n",
        "print(filmes)"
      ],
      "execution_count": 13,
      "outputs": [
        {
          "output_type": "stream",
          "text": [
            "['Um Sonho de Liberdade', 'O Poderoso Chefão', 'O Poderoso Chefão II', 'Clube da Luta', 'Batman: O Cavaleiro das Trevas', '12 Homens e uma Sentença', 'A Lista de Schindler', 'O Senhor dos Anéis: O Retorno do Rei', 'Pulp Fiction: Tempo de Violência', 'O Senhor dos Anéis: A Sociedade do Anel']\n"
          ],
          "name": "stdout"
        }
      ]
    },
    {
      "cell_type": "markdown",
      "metadata": {
        "id": "zMN1Q3jdwoJm"
      },
      "source": [
        "---"
      ]
    },
    {
      "cell_type": "markdown",
      "metadata": {
        "id": "lxa5L6uF0ZJE"
      },
      "source": [
        "## 2\\. Conjuntos"
      ]
    },
    {
      "cell_type": "markdown",
      "metadata": {
        "id": "9JahS2Kj0d5u"
      },
      "source": [
        "Aconteceu um erro no seu *ranking*. Simule a duplicação dos três últimos filmes da lista. Imprima o resultado."
      ]
    },
    {
      "cell_type": "code",
      "metadata": {
        "id": "BnjnLBNC6PGe"
      },
      "source": [
        "filmes = ['Um Sonho de Liberdade',\n",
        "       'O Poderoso Chefão',\n",
        "       'O Poderoso Chefão II',\n",
        "       'Batman: O Cavaleiro das Trevas',\n",
        "       '12 Homens e uma Sentença',\n",
        "       'A Lista de Schindler',\n",
        "       'O Senhor dos Anéis: O Retorno do Rei',\n",
        "       'Pulp Fiction: Tempo de Violência',\n",
        "       'Pulp Fiction: Tempo de Violência',\n",
        "       'Três Homens em Conflito',\n",
        "       'Três Homens em Conflito',\n",
        "       'O Senhor dos Anéis: A Sociedade do Anel',\n",
        "       'O Senhor dos Anéis: A Sociedade do Anel']"
      ],
      "execution_count": 14,
      "outputs": []
    },
    {
      "cell_type": "code",
      "metadata": {
        "id": "W5v-FkU9g8rQ"
      },
      "source": [
        ""
      ],
      "execution_count": null,
      "outputs": []
    },
    {
      "cell_type": "markdown",
      "metadata": {
        "id": "suxTfCJB6ZiX"
      },
      "source": [
        "Utiliza a conversão `set` e `list` para remover os valores duplicados. Imprima o resultado. "
      ]
    },
    {
      "cell_type": "code",
      "metadata": {
        "id": "ZvUGN-0n6joM",
        "colab": {
          "base_uri": "https://localhost:8080/"
        },
        "outputId": "8af1550a-2afd-4bae-dac7-63cae4398893"
      },
      "source": [
        "ranking = list(set(filmes))\n",
        "\n",
        "print(ranking)"
      ],
      "execution_count": 16,
      "outputs": [
        {
          "output_type": "stream",
          "text": [
            "['O Poderoso Chefão II', 'A Lista de Schindler', '12 Homens e uma Sentença', 'Pulp Fiction: Tempo de Violência', 'O Poderoso Chefão', 'Um Sonho de Liberdade', 'Batman: O Cavaleiro das Trevas', 'O Senhor dos Anéis: A Sociedade do Anel', 'Três Homens em Conflito', 'O Senhor dos Anéis: O Retorno do Rei']\n"
          ],
          "name": "stdout"
        }
      ]
    },
    {
      "cell_type": "markdown",
      "metadata": {
        "id": "ShkK35eQ6pAM"
      },
      "source": [
        "---"
      ]
    },
    {
      "cell_type": "markdown",
      "metadata": {
        "id": "EL_FzmxL6rTv"
      },
      "source": [
        "## 3\\. Dicionários"
      ]
    },
    {
      "cell_type": "markdown",
      "metadata": {
        "id": "i8l0gFqRCpfT"
      },
      "source": [
        "Repita os exercícios da parte 1 (listas). Os elementos da lista `filmes` devem ser dicionários no seguinte formato: `{'nome': <nome-do-filme>, 'ano': <ano do filme>}, 'sinopse': <sinopse do filme>}`. "
      ]
    },
    {
      "cell_type": "code",
      "metadata": {
        "id": "be1LaukyC2Qs"
      },
      "source": [
        "filmes = {1:{'nome':'Um Sonho de Liberdade',\n",
        "             'ano': 1994, \n",
        "             'sinopse': 'Dois homens presos se reúnem ao longo de vários anos, encontrando consolo e eventual redenção através de atos de decência comum.'},\n",
        "          2:{'nome':'O Poderoso Chefão',\n",
        "             'ano': 1972, \n",
        "             'sinopse': 'O patriarca idoso de uma dinastia do crime organizado transfere o controle de seu império clandestino para seu filho relutante.'},\n",
        "          3:{'nome':' O Poderoso Chefão II',\n",
        "             'ano': 1974, \n",
        "             'sinopse': 'Em 1950, Michael Corleone, agora à frente da família, tenta expandir o negócio do crime a Las Vegas, Los Angeles e Cuba. Paralelamente, é revelada a história de Vito Corleone, e de como saiu da Sicília e chegou a Nova Iorque.'},\n",
        "          4:{'nome':'Batman: O Cavaleiro das Trevas',\n",
        "             'ano': 2008, \n",
        "             'sinopse': 'Quando a ameaça conhecida como O Coringa surge de seu passado, causa estragos e caos nas pessoas de Gotham. O Cavaleiro das Trevas deve aceitar um dos maiores testes para combater a injustiça.'},\n",
        "          5:{'nome':'12 Homens e uma Sentença',\n",
        "             'ano': 1957, \n",
        "             'sinopse': 'Um jurado que se aposenta tenta evitar um erro judicial forçando seus colegas a reconsiderarem as evidências.'},\n",
        "          6:{'nome':'A Lista de Schindler',\n",
        "             'ano': 1993, \n",
        "             'sinopse': 'Depois de testemunhar a perseguição dos judaicos na Polônia ocupada pelos alemães durante a Segunda Guerra Mundial, o industrial Oskar Schindler se começa a preocupar com sua força de trabalho judaica.'},\n",
        "          7:{'nome':'O Senhor dos Anéis: O Retorno do Rei',\n",
        "             'ano': 2003, \n",
        "             'sinopse': 'Gandalf e Aragorn lideram o Mundo dos Homens contra o exército de Sauron para desviar o olhar de Frodo e Sam quando eles se aproximam á Montanha da Perdição com o Um Anel.'},\n",
        "          8:{'nome':'Pulp Fiction: Tempo de Violência',\n",
        "             'ano': 1994, \n",
        "             'sinopse': 'As vidas de dois assassinos da máfia, um boxeador, um gângster e sua esposa, e um par de bandidos se entrelaçam em quatro histórias de violência e redenção.'},\n",
        "          9:{'nome':'Três Homens em Conflito',\n",
        "             'ano': 1966, \n",
        "             'sinopse': 'Um impostor se junta com dois homens para encontrar fortuna num remoto cemitério.'},\n",
        "          10:{'nome':'O Senhor dos Anéis: A Sociedade do Anel',\n",
        "             'ano': 2001, \n",
        "             'sinopse': 'Um manso hobbit do Condado e oito companheiros partem em uma jornada para destruir o poderoso Um Anel e salvar a Terra-média das Trevas.'}       \n",
        "          }\n",
        "       \n"
      ],
      "execution_count": 5,
      "outputs": []
    }
  ]
}